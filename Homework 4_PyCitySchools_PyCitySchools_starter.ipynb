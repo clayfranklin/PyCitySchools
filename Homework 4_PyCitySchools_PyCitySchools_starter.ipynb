{
 "cells": [
  {
   "cell_type": "markdown",
   "metadata": {},
   "source": [
    "### Note\n",
    "* Instructions have been included for each segment. You do not have to follow them exactly, but they are included to help you think through the steps."
   ]
  },
  {
   "cell_type": "code",
   "execution_count": 19,
   "metadata": {},
   "outputs": [
    {
     "data": {
      "text/html": [
       "<div>\n",
       "<style scoped>\n",
       "    .dataframe tbody tr th:only-of-type {\n",
       "        vertical-align: middle;\n",
       "    }\n",
       "\n",
       "    .dataframe tbody tr th {\n",
       "        vertical-align: top;\n",
       "    }\n",
       "\n",
       "    .dataframe thead th {\n",
       "        text-align: right;\n",
       "    }\n",
       "</style>\n",
       "<table border=\"1\" class=\"dataframe\">\n",
       "  <thead>\n",
       "    <tr style=\"text-align: right;\">\n",
       "      <th></th>\n",
       "      <th>Student ID</th>\n",
       "      <th>student_name</th>\n",
       "      <th>gender</th>\n",
       "      <th>grade</th>\n",
       "      <th>school_name</th>\n",
       "      <th>reading_score</th>\n",
       "      <th>math_score</th>\n",
       "      <th>School ID</th>\n",
       "      <th>type</th>\n",
       "      <th>size</th>\n",
       "      <th>budget</th>\n",
       "    </tr>\n",
       "  </thead>\n",
       "  <tbody>\n",
       "    <tr>\n",
       "      <th>0</th>\n",
       "      <td>0</td>\n",
       "      <td>Paul Bradley</td>\n",
       "      <td>M</td>\n",
       "      <td>9th</td>\n",
       "      <td>Huang High School</td>\n",
       "      <td>66</td>\n",
       "      <td>79</td>\n",
       "      <td>0</td>\n",
       "      <td>District</td>\n",
       "      <td>2917</td>\n",
       "      <td>1910635</td>\n",
       "    </tr>\n",
       "    <tr>\n",
       "      <th>1</th>\n",
       "      <td>1</td>\n",
       "      <td>Victor Smith</td>\n",
       "      <td>M</td>\n",
       "      <td>12th</td>\n",
       "      <td>Huang High School</td>\n",
       "      <td>94</td>\n",
       "      <td>61</td>\n",
       "      <td>0</td>\n",
       "      <td>District</td>\n",
       "      <td>2917</td>\n",
       "      <td>1910635</td>\n",
       "    </tr>\n",
       "    <tr>\n",
       "      <th>2</th>\n",
       "      <td>2</td>\n",
       "      <td>Kevin Rodriguez</td>\n",
       "      <td>M</td>\n",
       "      <td>12th</td>\n",
       "      <td>Huang High School</td>\n",
       "      <td>90</td>\n",
       "      <td>60</td>\n",
       "      <td>0</td>\n",
       "      <td>District</td>\n",
       "      <td>2917</td>\n",
       "      <td>1910635</td>\n",
       "    </tr>\n",
       "    <tr>\n",
       "      <th>3</th>\n",
       "      <td>3</td>\n",
       "      <td>Dr. Richard Scott</td>\n",
       "      <td>M</td>\n",
       "      <td>12th</td>\n",
       "      <td>Huang High School</td>\n",
       "      <td>67</td>\n",
       "      <td>58</td>\n",
       "      <td>0</td>\n",
       "      <td>District</td>\n",
       "      <td>2917</td>\n",
       "      <td>1910635</td>\n",
       "    </tr>\n",
       "    <tr>\n",
       "      <th>4</th>\n",
       "      <td>4</td>\n",
       "      <td>Bonnie Ray</td>\n",
       "      <td>F</td>\n",
       "      <td>9th</td>\n",
       "      <td>Huang High School</td>\n",
       "      <td>97</td>\n",
       "      <td>84</td>\n",
       "      <td>0</td>\n",
       "      <td>District</td>\n",
       "      <td>2917</td>\n",
       "      <td>1910635</td>\n",
       "    </tr>\n",
       "  </tbody>\n",
       "</table>\n",
       "</div>"
      ],
      "text/plain": [
       "   Student ID       student_name gender grade        school_name  \\\n",
       "0           0       Paul Bradley      M   9th  Huang High School   \n",
       "1           1       Victor Smith      M  12th  Huang High School   \n",
       "2           2    Kevin Rodriguez      M  12th  Huang High School   \n",
       "3           3  Dr. Richard Scott      M  12th  Huang High School   \n",
       "4           4         Bonnie Ray      F   9th  Huang High School   \n",
       "\n",
       "   reading_score  math_score  School ID      type  size   budget  \n",
       "0             66          79          0  District  2917  1910635  \n",
       "1             94          61          0  District  2917  1910635  \n",
       "2             90          60          0  District  2917  1910635  \n",
       "3             67          58          0  District  2917  1910635  \n",
       "4             97          84          0  District  2917  1910635  "
      ]
     },
     "execution_count": 19,
     "metadata": {},
     "output_type": "execute_result"
    }
   ],
   "source": [
    "# Dependencies and Setup\n",
    "import os\n",
    "import csv\n",
    "import pandas as pd\n",
    "import numpy as np\n",
    "\n",
    "\n",
    "# File to Load (Remember to Change These)\n",
    "school_data_to_load = \"schools_complete.csv\"\n",
    "student_data_to_load = \"students_complete.csv\"\n",
    "\n",
    "# Read School and Student Data File and store into Pandas Data Frames\n",
    "school_data = pd.read_csv(school_data_to_load)\n",
    "student_data = pd.read_csv(student_data_to_load)\n",
    "\n",
    "# Combine the data into a single dataset\n",
    "school_data_complete = pd.merge(student_data, school_data, how= \"outer\", on= ([\"school_name\", \"school_name\"]))\n",
    "\n",
    "school_data_complete.head()\n"
   ]
  },
  {
   "cell_type": "markdown",
   "metadata": {},
   "source": [
    "## District Summary\n",
    "\n",
    "* Calculate the total number of schools\n",
    "\n",
    "* Calculate the total number of students\n",
    "\n",
    "* Calculate the total budget\n",
    "\n",
    "* Calculate the average math score \n",
    "\n",
    "* Calculate the average reading score\n",
    "\n",
    "* Calculate the overall passing rate (overall average score), i.e. (avg. math score + avg. reading score)/2\n",
    "\n",
    "* Calculate the percentage of students with a passing math score (70 or greater)\n",
    "\n",
    "* Calculate the percentage of students with a passing reading score (70 or greater)\n",
    "\n",
    "* Create a dataframe to hold the above results\n",
    "\n",
    "* Optional: give the displayed data cleaner formatting"
   ]
  },
  {
   "cell_type": "code",
   "execution_count": 16,
   "metadata": {},
   "outputs": [
    {
     "data": {
      "text/plain": [
       "15"
      ]
     },
     "execution_count": 16,
     "metadata": {},
     "output_type": "execute_result"
    }
   ],
   "source": [
    "school_name = school_data_complete[\"school_name\"].unique()\n",
    "school_count = len(school_name)\n",
    "school_count\n",
    "\n"
   ]
  },
  {
   "cell_type": "code",
   "execution_count": 67,
   "metadata": {},
   "outputs": [
    {
     "data": {
      "text/plain": [
       "24649428"
      ]
     },
     "execution_count": 67,
     "metadata": {},
     "output_type": "execute_result"
    }
   ],
   "source": [
    "school_budget = school_data_complete[\"budget\"].unique()\n",
    "budget_total = school_budget.sum()\n",
    "budget_total"
   ]
  },
  {
   "cell_type": "code",
   "execution_count": 18,
   "metadata": {},
   "outputs": [
    {
     "data": {
      "text/plain": [
       "39170"
      ]
     },
     "execution_count": 18,
     "metadata": {},
     "output_type": "execute_result"
    }
   ],
   "source": [
    "student_IDs = school_data_complete[\"Student ID\"].unique()\n",
    "student_count = len(student_IDs)\n",
    "student_count\n",
    "\n"
   ]
  },
  {
   "cell_type": "code",
   "execution_count": 25,
   "metadata": {},
   "outputs": [
    {
     "data": {
      "text/plain": [
       "78.98537145774827"
      ]
     },
     "execution_count": 25,
     "metadata": {},
     "output_type": "execute_result"
    }
   ],
   "source": [
    "math_scores = school_data_complete[\"math_score\"].sum()\n",
    "math_average = math_scores/len(school_data_complete[\"math_score\"])\n",
    "math_average"
   ]
  },
  {
   "cell_type": "code",
   "execution_count": 27,
   "metadata": {},
   "outputs": [
    {
     "data": {
      "text/plain": [
       "81.87784018381414"
      ]
     },
     "execution_count": 27,
     "metadata": {},
     "output_type": "execute_result"
    }
   ],
   "source": [
    "read_scores = school_data_complete[\"reading_score\"].sum()\n",
    "read_average = read_scores/len(school_data_complete[\"reading_score\"])\n",
    "read_average"
   ]
  },
  {
   "cell_type": "code",
   "execution_count": 30,
   "metadata": {},
   "outputs": [
    {
     "data": {
      "text/plain": [
       "80.43160582078121"
      ]
     },
     "execution_count": 30,
     "metadata": {},
     "output_type": "execute_result"
    }
   ],
   "source": [
    "overall_passing_rate = (math_average + read_average)/2\n",
    "overall_passing_rate"
   ]
  },
  {
   "cell_type": "markdown",
   "metadata": {},
   "source": [
    "## School Summary"
   ]
  },
  {
   "cell_type": "code",
   "execution_count": 62,
   "metadata": {},
   "outputs": [
    {
     "data": {
      "text/plain": [
       "0.749808526933878"
      ]
     },
     "execution_count": 62,
     "metadata": {},
     "output_type": "execute_result"
    }
   ],
   "source": [
    "passing_math = school_data_complete[\"math_score\"]>69.9\n",
    "pass_math_percent = np.count_nonzero(passing_math)/len(school_data_complete[\"math_score\"])\n",
    "pass_math_percent"
   ]
  },
  {
   "cell_type": "code",
   "execution_count": 63,
   "metadata": {},
   "outputs": [
    {
     "data": {
      "text/plain": [
       "0.8580546336482001"
      ]
     },
     "execution_count": 63,
     "metadata": {},
     "output_type": "execute_result"
    }
   ],
   "source": [
    "passing_reading = school_data_complete[\"reading_score\"]>69.9\n",
    "pass_reading_percent = np.count_nonzero(passing_reading)/len(school_data_complete[\"reading_score\"])\n",
    "pass_reading_percent"
   ]
  },
  {
   "cell_type": "code",
   "execution_count": 69,
   "metadata": {},
   "outputs": [
    {
     "data": {
      "text/html": [
       "<div>\n",
       "<style scoped>\n",
       "    .dataframe tbody tr th:only-of-type {\n",
       "        vertical-align: middle;\n",
       "    }\n",
       "\n",
       "    .dataframe tbody tr th {\n",
       "        vertical-align: top;\n",
       "    }\n",
       "\n",
       "    .dataframe thead th {\n",
       "        text-align: right;\n",
       "    }\n",
       "</style>\n",
       "<table border=\"1\" class=\"dataframe\">\n",
       "  <thead>\n",
       "    <tr style=\"text-align: right;\">\n",
       "      <th></th>\n",
       "      <th>Total Schools</th>\n",
       "      <th>Total Students</th>\n",
       "      <th>Total Budget</th>\n",
       "      <th>Average Math Score</th>\n",
       "      <th>Average Reading Score</th>\n",
       "      <th>% Passing Math</th>\n",
       "      <th>% Passing Reading</th>\n",
       "      <th>% Overall Passing Rate</th>\n",
       "    </tr>\n",
       "  </thead>\n",
       "  <tbody>\n",
       "    <tr>\n",
       "      <th>0</th>\n",
       "      <td>15</td>\n",
       "      <td>39170</td>\n",
       "      <td>24649428</td>\n",
       "      <td>78.985371</td>\n",
       "      <td>81.87784</td>\n",
       "      <td>0.749809</td>\n",
       "      <td>0.858055</td>\n",
       "      <td>80.431606</td>\n",
       "    </tr>\n",
       "  </tbody>\n",
       "</table>\n",
       "</div>"
      ],
      "text/plain": [
       "   Total Schools  Total Students  Total Budget  Average Math Score  \\\n",
       "0             15           39170      24649428           78.985371   \n",
       "\n",
       "   Average Reading Score  % Passing Math  % Passing Reading  \\\n",
       "0               81.87784        0.749809           0.858055   \n",
       "\n",
       "   % Overall Passing Rate  \n",
       "0               80.431606  "
      ]
     },
     "execution_count": 69,
     "metadata": {},
     "output_type": "execute_result"
    }
   ],
   "source": [
    "Summary_table = pd.DataFrame({\"Total Schools\": [school_count],\n",
    "                              \"Total Students\": [student_count],\n",
    "                              \"Total Budget\": [budget_total],\n",
    "                              \"Average Math Score\": [math_average],\n",
    "                              \"Average Reading Score\": [read_average],\n",
    "                              \"% Passing Math\": [pass_math_percent],\n",
    "                              \"% Passing Reading\": [pass_reading_percent],\n",
    "                             \"% Overall Passing Rate\": [overall_passing_rate]})\n",
    "Summary_table"
   ]
  },
  {
   "cell_type": "code",
   "execution_count": null,
   "metadata": {},
   "outputs": [],
   "source": []
  },
  {
   "cell_type": "markdown",
   "metadata": {},
   "source": [
    "* Create an overview table that summarizes key metrics about each school, including:\n",
    "  * School Name\n",
    "  * School Type\n",
    "  * Total Students\n",
    "  * Total School Budget\n",
    "  * Per Student Budget\n",
    "  * Average Math Score\n",
    "  * Average Reading Score\n",
    "  * % Passing Math\n",
    "  * % Passing Reading\n",
    "  * Overall Passing Rate (Average of the above two)\n",
    "  \n",
    "* Create a dataframe to hold the above results"
   ]
  },
  {
   "cell_type": "code",
   "execution_count": 77,
   "metadata": {},
   "outputs": [
    {
     "data": {
      "text/html": [
       "<div>\n",
       "<style scoped>\n",
       "    .dataframe tbody tr th:only-of-type {\n",
       "        vertical-align: middle;\n",
       "    }\n",
       "\n",
       "    .dataframe tbody tr th {\n",
       "        vertical-align: top;\n",
       "    }\n",
       "\n",
       "    .dataframe thead tr th {\n",
       "        text-align: left;\n",
       "    }\n",
       "\n",
       "    .dataframe thead tr:last-of-type th {\n",
       "        text-align: right;\n",
       "    }\n",
       "</style>\n",
       "<table border=\"1\" class=\"dataframe\">\n",
       "  <thead>\n",
       "    <tr>\n",
       "      <th></th>\n",
       "      <th colspan=\"8\" halign=\"left\">Student ID</th>\n",
       "      <th colspan=\"2\" halign=\"left\">reading_score</th>\n",
       "      <th>...</th>\n",
       "      <th colspan=\"2\" halign=\"left\">size</th>\n",
       "      <th colspan=\"8\" halign=\"left\">budget</th>\n",
       "    </tr>\n",
       "    <tr>\n",
       "      <th></th>\n",
       "      <th>count</th>\n",
       "      <th>mean</th>\n",
       "      <th>std</th>\n",
       "      <th>min</th>\n",
       "      <th>25%</th>\n",
       "      <th>50%</th>\n",
       "      <th>75%</th>\n",
       "      <th>max</th>\n",
       "      <th>count</th>\n",
       "      <th>mean</th>\n",
       "      <th>...</th>\n",
       "      <th>75%</th>\n",
       "      <th>max</th>\n",
       "      <th>count</th>\n",
       "      <th>mean</th>\n",
       "      <th>std</th>\n",
       "      <th>min</th>\n",
       "      <th>25%</th>\n",
       "      <th>50%</th>\n",
       "      <th>75%</th>\n",
       "      <th>max</th>\n",
       "    </tr>\n",
       "    <tr>\n",
       "      <th>school_name</th>\n",
       "      <th></th>\n",
       "      <th></th>\n",
       "      <th></th>\n",
       "      <th></th>\n",
       "      <th></th>\n",
       "      <th></th>\n",
       "      <th></th>\n",
       "      <th></th>\n",
       "      <th></th>\n",
       "      <th></th>\n",
       "      <th></th>\n",
       "      <th></th>\n",
       "      <th></th>\n",
       "      <th></th>\n",
       "      <th></th>\n",
       "      <th></th>\n",
       "      <th></th>\n",
       "      <th></th>\n",
       "      <th></th>\n",
       "      <th></th>\n",
       "      <th></th>\n",
       "    </tr>\n",
       "  </thead>\n",
       "  <tbody>\n",
       "    <tr>\n",
       "      <th>Bailey High School</th>\n",
       "      <td>4976.0</td>\n",
       "      <td>20358.5</td>\n",
       "      <td>1436.591800</td>\n",
       "      <td>17871.0</td>\n",
       "      <td>19114.75</td>\n",
       "      <td>20358.5</td>\n",
       "      <td>21602.25</td>\n",
       "      <td>22846.0</td>\n",
       "      <td>4976.0</td>\n",
       "      <td>81.033963</td>\n",
       "      <td>...</td>\n",
       "      <td>4976.0</td>\n",
       "      <td>4976.0</td>\n",
       "      <td>4976.0</td>\n",
       "      <td>3124928.0</td>\n",
       "      <td>0.0</td>\n",
       "      <td>3124928.0</td>\n",
       "      <td>3124928.0</td>\n",
       "      <td>3124928.0</td>\n",
       "      <td>3124928.0</td>\n",
       "      <td>3124928.0</td>\n",
       "    </tr>\n",
       "    <tr>\n",
       "      <th>Cabrera High School</th>\n",
       "      <td>1858.0</td>\n",
       "      <td>16941.5</td>\n",
       "      <td>536.502718</td>\n",
       "      <td>16013.0</td>\n",
       "      <td>16477.25</td>\n",
       "      <td>16941.5</td>\n",
       "      <td>17405.75</td>\n",
       "      <td>17870.0</td>\n",
       "      <td>1858.0</td>\n",
       "      <td>83.975780</td>\n",
       "      <td>...</td>\n",
       "      <td>1858.0</td>\n",
       "      <td>1858.0</td>\n",
       "      <td>1858.0</td>\n",
       "      <td>1081356.0</td>\n",
       "      <td>0.0</td>\n",
       "      <td>1081356.0</td>\n",
       "      <td>1081356.0</td>\n",
       "      <td>1081356.0</td>\n",
       "      <td>1081356.0</td>\n",
       "      <td>1081356.0</td>\n",
       "    </tr>\n",
       "    <tr>\n",
       "      <th>Figueroa High School</th>\n",
       "      <td>2949.0</td>\n",
       "      <td>4391.0</td>\n",
       "      <td>851.447297</td>\n",
       "      <td>2917.0</td>\n",
       "      <td>3654.00</td>\n",
       "      <td>4391.0</td>\n",
       "      <td>5128.00</td>\n",
       "      <td>5865.0</td>\n",
       "      <td>2949.0</td>\n",
       "      <td>81.158020</td>\n",
       "      <td>...</td>\n",
       "      <td>2949.0</td>\n",
       "      <td>2949.0</td>\n",
       "      <td>2949.0</td>\n",
       "      <td>1884411.0</td>\n",
       "      <td>0.0</td>\n",
       "      <td>1884411.0</td>\n",
       "      <td>1884411.0</td>\n",
       "      <td>1884411.0</td>\n",
       "      <td>1884411.0</td>\n",
       "      <td>1884411.0</td>\n",
       "    </tr>\n",
       "    <tr>\n",
       "      <th>Ford High School</th>\n",
       "      <td>2739.0</td>\n",
       "      <td>36165.0</td>\n",
       "      <td>790.825518</td>\n",
       "      <td>34796.0</td>\n",
       "      <td>35480.50</td>\n",
       "      <td>36165.0</td>\n",
       "      <td>36849.50</td>\n",
       "      <td>37534.0</td>\n",
       "      <td>2739.0</td>\n",
       "      <td>80.746258</td>\n",
       "      <td>...</td>\n",
       "      <td>2739.0</td>\n",
       "      <td>2739.0</td>\n",
       "      <td>2739.0</td>\n",
       "      <td>1763916.0</td>\n",
       "      <td>0.0</td>\n",
       "      <td>1763916.0</td>\n",
       "      <td>1763916.0</td>\n",
       "      <td>1763916.0</td>\n",
       "      <td>1763916.0</td>\n",
       "      <td>1763916.0</td>\n",
       "    </tr>\n",
       "    <tr>\n",
       "      <th>Griffin High School</th>\n",
       "      <td>1468.0</td>\n",
       "      <td>12995.5</td>\n",
       "      <td>423.919411</td>\n",
       "      <td>12262.0</td>\n",
       "      <td>12628.75</td>\n",
       "      <td>12995.5</td>\n",
       "      <td>13362.25</td>\n",
       "      <td>13729.0</td>\n",
       "      <td>1468.0</td>\n",
       "      <td>83.816757</td>\n",
       "      <td>...</td>\n",
       "      <td>1468.0</td>\n",
       "      <td>1468.0</td>\n",
       "      <td>1468.0</td>\n",
       "      <td>917500.0</td>\n",
       "      <td>0.0</td>\n",
       "      <td>917500.0</td>\n",
       "      <td>917500.0</td>\n",
       "      <td>917500.0</td>\n",
       "      <td>917500.0</td>\n",
       "      <td>917500.0</td>\n",
       "    </tr>\n",
       "    <tr>\n",
       "      <th>Hernandez High School</th>\n",
       "      <td>4635.0</td>\n",
       "      <td>9944.0</td>\n",
       "      <td>1338.153579</td>\n",
       "      <td>7627.0</td>\n",
       "      <td>8785.50</td>\n",
       "      <td>9944.0</td>\n",
       "      <td>11102.50</td>\n",
       "      <td>12261.0</td>\n",
       "      <td>4635.0</td>\n",
       "      <td>80.934412</td>\n",
       "      <td>...</td>\n",
       "      <td>4635.0</td>\n",
       "      <td>4635.0</td>\n",
       "      <td>4635.0</td>\n",
       "      <td>3022020.0</td>\n",
       "      <td>0.0</td>\n",
       "      <td>3022020.0</td>\n",
       "      <td>3022020.0</td>\n",
       "      <td>3022020.0</td>\n",
       "      <td>3022020.0</td>\n",
       "      <td>3022020.0</td>\n",
       "    </tr>\n",
       "    <tr>\n",
       "      <th>Holden High School</th>\n",
       "      <td>427.0</td>\n",
       "      <td>23060.0</td>\n",
       "      <td>123.408536</td>\n",
       "      <td>22847.0</td>\n",
       "      <td>22953.50</td>\n",
       "      <td>23060.0</td>\n",
       "      <td>23166.50</td>\n",
       "      <td>23273.0</td>\n",
       "      <td>427.0</td>\n",
       "      <td>83.814988</td>\n",
       "      <td>...</td>\n",
       "      <td>427.0</td>\n",
       "      <td>427.0</td>\n",
       "      <td>427.0</td>\n",
       "      <td>248087.0</td>\n",
       "      <td>0.0</td>\n",
       "      <td>248087.0</td>\n",
       "      <td>248087.0</td>\n",
       "      <td>248087.0</td>\n",
       "      <td>248087.0</td>\n",
       "      <td>248087.0</td>\n",
       "    </tr>\n",
       "    <tr>\n",
       "      <th>Huang High School</th>\n",
       "      <td>2917.0</td>\n",
       "      <td>1458.0</td>\n",
       "      <td>842.209693</td>\n",
       "      <td>0.0</td>\n",
       "      <td>729.00</td>\n",
       "      <td>1458.0</td>\n",
       "      <td>2187.00</td>\n",
       "      <td>2916.0</td>\n",
       "      <td>2917.0</td>\n",
       "      <td>81.182722</td>\n",
       "      <td>...</td>\n",
       "      <td>2917.0</td>\n",
       "      <td>2917.0</td>\n",
       "      <td>2917.0</td>\n",
       "      <td>1910635.0</td>\n",
       "      <td>0.0</td>\n",
       "      <td>1910635.0</td>\n",
       "      <td>1910635.0</td>\n",
       "      <td>1910635.0</td>\n",
       "      <td>1910635.0</td>\n",
       "      <td>1910635.0</td>\n",
       "    </tr>\n",
       "    <tr>\n",
       "      <th>Johnson High School</th>\n",
       "      <td>4761.0</td>\n",
       "      <td>32415.0</td>\n",
       "      <td>1374.526646</td>\n",
       "      <td>30035.0</td>\n",
       "      <td>31225.00</td>\n",
       "      <td>32415.0</td>\n",
       "      <td>33605.00</td>\n",
       "      <td>34795.0</td>\n",
       "      <td>4761.0</td>\n",
       "      <td>80.966394</td>\n",
       "      <td>...</td>\n",
       "      <td>4761.0</td>\n",
       "      <td>4761.0</td>\n",
       "      <td>4761.0</td>\n",
       "      <td>3094650.0</td>\n",
       "      <td>0.0</td>\n",
       "      <td>3094650.0</td>\n",
       "      <td>3094650.0</td>\n",
       "      <td>3094650.0</td>\n",
       "      <td>3094650.0</td>\n",
       "      <td>3094650.0</td>\n",
       "    </tr>\n",
       "    <tr>\n",
       "      <th>Pena High School</th>\n",
       "      <td>962.0</td>\n",
       "      <td>23754.5</td>\n",
       "      <td>277.849780</td>\n",
       "      <td>23274.0</td>\n",
       "      <td>23514.25</td>\n",
       "      <td>23754.5</td>\n",
       "      <td>23994.75</td>\n",
       "      <td>24235.0</td>\n",
       "      <td>962.0</td>\n",
       "      <td>84.044699</td>\n",
       "      <td>...</td>\n",
       "      <td>962.0</td>\n",
       "      <td>962.0</td>\n",
       "      <td>962.0</td>\n",
       "      <td>585858.0</td>\n",
       "      <td>0.0</td>\n",
       "      <td>585858.0</td>\n",
       "      <td>585858.0</td>\n",
       "      <td>585858.0</td>\n",
       "      <td>585858.0</td>\n",
       "      <td>585858.0</td>\n",
       "    </tr>\n",
       "    <tr>\n",
       "      <th>Rodriguez High School</th>\n",
       "      <td>3999.0</td>\n",
       "      <td>28035.0</td>\n",
       "      <td>1154.556192</td>\n",
       "      <td>26036.0</td>\n",
       "      <td>27035.50</td>\n",
       "      <td>28035.0</td>\n",
       "      <td>29034.50</td>\n",
       "      <td>30034.0</td>\n",
       "      <td>3999.0</td>\n",
       "      <td>80.744686</td>\n",
       "      <td>...</td>\n",
       "      <td>3999.0</td>\n",
       "      <td>3999.0</td>\n",
       "      <td>3999.0</td>\n",
       "      <td>2547363.0</td>\n",
       "      <td>0.0</td>\n",
       "      <td>2547363.0</td>\n",
       "      <td>2547363.0</td>\n",
       "      <td>2547363.0</td>\n",
       "      <td>2547363.0</td>\n",
       "      <td>2547363.0</td>\n",
       "    </tr>\n",
       "    <tr>\n",
       "      <th>Shelton High School</th>\n",
       "      <td>1761.0</td>\n",
       "      <td>6746.0</td>\n",
       "      <td>508.501229</td>\n",
       "      <td>5866.0</td>\n",
       "      <td>6306.00</td>\n",
       "      <td>6746.0</td>\n",
       "      <td>7186.00</td>\n",
       "      <td>7626.0</td>\n",
       "      <td>1761.0</td>\n",
       "      <td>83.725724</td>\n",
       "      <td>...</td>\n",
       "      <td>1761.0</td>\n",
       "      <td>1761.0</td>\n",
       "      <td>1761.0</td>\n",
       "      <td>1056600.0</td>\n",
       "      <td>0.0</td>\n",
       "      <td>1056600.0</td>\n",
       "      <td>1056600.0</td>\n",
       "      <td>1056600.0</td>\n",
       "      <td>1056600.0</td>\n",
       "      <td>1056600.0</td>\n",
       "    </tr>\n",
       "    <tr>\n",
       "      <th>Thomas High School</th>\n",
       "      <td>1635.0</td>\n",
       "      <td>38352.0</td>\n",
       "      <td>472.128161</td>\n",
       "      <td>37535.0</td>\n",
       "      <td>37943.50</td>\n",
       "      <td>38352.0</td>\n",
       "      <td>38760.50</td>\n",
       "      <td>39169.0</td>\n",
       "      <td>1635.0</td>\n",
       "      <td>83.848930</td>\n",
       "      <td>...</td>\n",
       "      <td>1635.0</td>\n",
       "      <td>1635.0</td>\n",
       "      <td>1635.0</td>\n",
       "      <td>1043130.0</td>\n",
       "      <td>0.0</td>\n",
       "      <td>1043130.0</td>\n",
       "      <td>1043130.0</td>\n",
       "      <td>1043130.0</td>\n",
       "      <td>1043130.0</td>\n",
       "      <td>1043130.0</td>\n",
       "    </tr>\n",
       "    <tr>\n",
       "      <th>Wilson High School</th>\n",
       "      <td>2283.0</td>\n",
       "      <td>14871.0</td>\n",
       "      <td>659.189654</td>\n",
       "      <td>13730.0</td>\n",
       "      <td>14300.50</td>\n",
       "      <td>14871.0</td>\n",
       "      <td>15441.50</td>\n",
       "      <td>16012.0</td>\n",
       "      <td>2283.0</td>\n",
       "      <td>83.989488</td>\n",
       "      <td>...</td>\n",
       "      <td>2283.0</td>\n",
       "      <td>2283.0</td>\n",
       "      <td>2283.0</td>\n",
       "      <td>1319574.0</td>\n",
       "      <td>0.0</td>\n",
       "      <td>1319574.0</td>\n",
       "      <td>1319574.0</td>\n",
       "      <td>1319574.0</td>\n",
       "      <td>1319574.0</td>\n",
       "      <td>1319574.0</td>\n",
       "    </tr>\n",
       "    <tr>\n",
       "      <th>Wright High School</th>\n",
       "      <td>1800.0</td>\n",
       "      <td>25135.5</td>\n",
       "      <td>519.759560</td>\n",
       "      <td>24236.0</td>\n",
       "      <td>24685.75</td>\n",
       "      <td>25135.5</td>\n",
       "      <td>25585.25</td>\n",
       "      <td>26035.0</td>\n",
       "      <td>1800.0</td>\n",
       "      <td>83.955000</td>\n",
       "      <td>...</td>\n",
       "      <td>1800.0</td>\n",
       "      <td>1800.0</td>\n",
       "      <td>1800.0</td>\n",
       "      <td>1049400.0</td>\n",
       "      <td>0.0</td>\n",
       "      <td>1049400.0</td>\n",
       "      <td>1049400.0</td>\n",
       "      <td>1049400.0</td>\n",
       "      <td>1049400.0</td>\n",
       "      <td>1049400.0</td>\n",
       "    </tr>\n",
       "  </tbody>\n",
       "</table>\n",
       "<p>15 rows × 48 columns</p>\n",
       "</div>"
      ],
      "text/plain": [
       "                      Student ID                                           \\\n",
       "                           count     mean          std      min       25%   \n",
       "school_name                                                                 \n",
       "Bailey High School        4976.0  20358.5  1436.591800  17871.0  19114.75   \n",
       "Cabrera High School       1858.0  16941.5   536.502718  16013.0  16477.25   \n",
       "Figueroa High School      2949.0   4391.0   851.447297   2917.0   3654.00   \n",
       "Ford High School          2739.0  36165.0   790.825518  34796.0  35480.50   \n",
       "Griffin High School       1468.0  12995.5   423.919411  12262.0  12628.75   \n",
       "Hernandez High School     4635.0   9944.0  1338.153579   7627.0   8785.50   \n",
       "Holden High School         427.0  23060.0   123.408536  22847.0  22953.50   \n",
       "Huang High School         2917.0   1458.0   842.209693      0.0    729.00   \n",
       "Johnson High School       4761.0  32415.0  1374.526646  30035.0  31225.00   \n",
       "Pena High School           962.0  23754.5   277.849780  23274.0  23514.25   \n",
       "Rodriguez High School     3999.0  28035.0  1154.556192  26036.0  27035.50   \n",
       "Shelton High School       1761.0   6746.0   508.501229   5866.0   6306.00   \n",
       "Thomas High School        1635.0  38352.0   472.128161  37535.0  37943.50   \n",
       "Wilson High School        2283.0  14871.0   659.189654  13730.0  14300.50   \n",
       "Wright High School        1800.0  25135.5   519.759560  24236.0  24685.75   \n",
       "\n",
       "                                                  reading_score             \\\n",
       "                           50%       75%      max         count       mean   \n",
       "school_name                                                                  \n",
       "Bailey High School     20358.5  21602.25  22846.0        4976.0  81.033963   \n",
       "Cabrera High School    16941.5  17405.75  17870.0        1858.0  83.975780   \n",
       "Figueroa High School    4391.0   5128.00   5865.0        2949.0  81.158020   \n",
       "Ford High School       36165.0  36849.50  37534.0        2739.0  80.746258   \n",
       "Griffin High School    12995.5  13362.25  13729.0        1468.0  83.816757   \n",
       "Hernandez High School   9944.0  11102.50  12261.0        4635.0  80.934412   \n",
       "Holden High School     23060.0  23166.50  23273.0         427.0  83.814988   \n",
       "Huang High School       1458.0   2187.00   2916.0        2917.0  81.182722   \n",
       "Johnson High School    32415.0  33605.00  34795.0        4761.0  80.966394   \n",
       "Pena High School       23754.5  23994.75  24235.0         962.0  84.044699   \n",
       "Rodriguez High School  28035.0  29034.50  30034.0        3999.0  80.744686   \n",
       "Shelton High School     6746.0   7186.00   7626.0        1761.0  83.725724   \n",
       "Thomas High School     38352.0  38760.50  39169.0        1635.0  83.848930   \n",
       "Wilson High School     14871.0  15441.50  16012.0        2283.0  83.989488   \n",
       "Wright High School     25135.5  25585.25  26035.0        1800.0  83.955000   \n",
       "\n",
       "                       ...    size          budget                             \\\n",
       "                       ...     75%     max   count       mean  std        min   \n",
       "school_name            ...                                                      \n",
       "Bailey High School     ...  4976.0  4976.0  4976.0  3124928.0  0.0  3124928.0   \n",
       "Cabrera High School    ...  1858.0  1858.0  1858.0  1081356.0  0.0  1081356.0   \n",
       "Figueroa High School   ...  2949.0  2949.0  2949.0  1884411.0  0.0  1884411.0   \n",
       "Ford High School       ...  2739.0  2739.0  2739.0  1763916.0  0.0  1763916.0   \n",
       "Griffin High School    ...  1468.0  1468.0  1468.0   917500.0  0.0   917500.0   \n",
       "Hernandez High School  ...  4635.0  4635.0  4635.0  3022020.0  0.0  3022020.0   \n",
       "Holden High School     ...   427.0   427.0   427.0   248087.0  0.0   248087.0   \n",
       "Huang High School      ...  2917.0  2917.0  2917.0  1910635.0  0.0  1910635.0   \n",
       "Johnson High School    ...  4761.0  4761.0  4761.0  3094650.0  0.0  3094650.0   \n",
       "Pena High School       ...   962.0   962.0   962.0   585858.0  0.0   585858.0   \n",
       "Rodriguez High School  ...  3999.0  3999.0  3999.0  2547363.0  0.0  2547363.0   \n",
       "Shelton High School    ...  1761.0  1761.0  1761.0  1056600.0  0.0  1056600.0   \n",
       "Thomas High School     ...  1635.0  1635.0  1635.0  1043130.0  0.0  1043130.0   \n",
       "Wilson High School     ...  2283.0  2283.0  2283.0  1319574.0  0.0  1319574.0   \n",
       "Wright High School     ...  1800.0  1800.0  1800.0  1049400.0  0.0  1049400.0   \n",
       "\n",
       "                                                                   \n",
       "                             25%        50%        75%        max  \n",
       "school_name                                                        \n",
       "Bailey High School     3124928.0  3124928.0  3124928.0  3124928.0  \n",
       "Cabrera High School    1081356.0  1081356.0  1081356.0  1081356.0  \n",
       "Figueroa High School   1884411.0  1884411.0  1884411.0  1884411.0  \n",
       "Ford High School       1763916.0  1763916.0  1763916.0  1763916.0  \n",
       "Griffin High School     917500.0   917500.0   917500.0   917500.0  \n",
       "Hernandez High School  3022020.0  3022020.0  3022020.0  3022020.0  \n",
       "Holden High School      248087.0   248087.0   248087.0   248087.0  \n",
       "Huang High School      1910635.0  1910635.0  1910635.0  1910635.0  \n",
       "Johnson High School    3094650.0  3094650.0  3094650.0  3094650.0  \n",
       "Pena High School        585858.0   585858.0   585858.0   585858.0  \n",
       "Rodriguez High School  2547363.0  2547363.0  2547363.0  2547363.0  \n",
       "Shelton High School    1056600.0  1056600.0  1056600.0  1056600.0  \n",
       "Thomas High School     1043130.0  1043130.0  1043130.0  1043130.0  \n",
       "Wilson High School     1319574.0  1319574.0  1319574.0  1319574.0  \n",
       "Wright High School     1049400.0  1049400.0  1049400.0  1049400.0  \n",
       "\n",
       "[15 rows x 48 columns]"
      ]
     },
     "execution_count": 77,
     "metadata": {},
     "output_type": "execute_result"
    }
   ],
   "source": [
    "group_school = school_data_complete.groupby([\"school_name\"])\n",
    "group_school.describe()"
   ]
  },
  {
   "cell_type": "code",
   "execution_count": 104,
   "metadata": {},
   "outputs": [
    {
     "data": {
      "text/plain": [
       "school_name\n",
       "Bailey High School       4976\n",
       "Cabrera High School      1858\n",
       "Figueroa High School     2949\n",
       "Ford High School         2739\n",
       "Griffin High School      1468\n",
       "Hernandez High School    4635\n",
       "Holden High School        427\n",
       "Huang High School        2917\n",
       "Johnson High School      4761\n",
       "Pena High School          962\n",
       "Rodriguez High School    3999\n",
       "Shelton High School      1761\n",
       "Thomas High School       1635\n",
       "Wilson High School       2283\n",
       "Wright High School       1800\n",
       "Name: Student ID, dtype: int64"
      ]
     },
     "execution_count": 104,
     "metadata": {},
     "output_type": "execute_result"
    }
   ],
   "source": [
    "totals_by_school = group_school[\"Student ID\"].count()\n",
    "totals_by_school\n"
   ]
  },
  {
   "cell_type": "code",
   "execution_count": 107,
   "metadata": {},
   "outputs": [
    {
     "data": {
      "text/html": [
       "<div>\n",
       "<style scoped>\n",
       "    .dataframe tbody tr th:only-of-type {\n",
       "        vertical-align: middle;\n",
       "    }\n",
       "\n",
       "    .dataframe tbody tr th {\n",
       "        vertical-align: top;\n",
       "    }\n",
       "\n",
       "    .dataframe thead th {\n",
       "        text-align: right;\n",
       "    }\n",
       "</style>\n",
       "<table border=\"1\" class=\"dataframe\">\n",
       "  <thead>\n",
       "    <tr style=\"text-align: right;\">\n",
       "      <th></th>\n",
       "      <th>Student ID</th>\n",
       "      <th>student_name</th>\n",
       "      <th>gender</th>\n",
       "      <th>grade</th>\n",
       "      <th>school_name</th>\n",
       "      <th>reading_score</th>\n",
       "      <th>math_score</th>\n",
       "      <th>School ID</th>\n",
       "      <th>size</th>\n",
       "      <th>budget</th>\n",
       "    </tr>\n",
       "    <tr>\n",
       "      <th>type</th>\n",
       "      <th></th>\n",
       "      <th></th>\n",
       "      <th></th>\n",
       "      <th></th>\n",
       "      <th></th>\n",
       "      <th></th>\n",
       "      <th></th>\n",
       "      <th></th>\n",
       "      <th></th>\n",
       "      <th></th>\n",
       "    </tr>\n",
       "  </thead>\n",
       "  <tbody>\n",
       "    <tr>\n",
       "      <th>Charter</th>\n",
       "      <td>12194</td>\n",
       "      <td>12194</td>\n",
       "      <td>12194</td>\n",
       "      <td>12194</td>\n",
       "      <td>12194</td>\n",
       "      <td>12194</td>\n",
       "      <td>12194</td>\n",
       "      <td>12194</td>\n",
       "      <td>12194</td>\n",
       "      <td>12194</td>\n",
       "    </tr>\n",
       "    <tr>\n",
       "      <th>District</th>\n",
       "      <td>26976</td>\n",
       "      <td>26976</td>\n",
       "      <td>26976</td>\n",
       "      <td>26976</td>\n",
       "      <td>26976</td>\n",
       "      <td>26976</td>\n",
       "      <td>26976</td>\n",
       "      <td>26976</td>\n",
       "      <td>26976</td>\n",
       "      <td>26976</td>\n",
       "    </tr>\n",
       "  </tbody>\n",
       "</table>\n",
       "</div>"
      ],
      "text/plain": [
       "          Student ID  student_name  gender  grade  school_name  reading_score  \\\n",
       "type                                                                            \n",
       "Charter        12194         12194   12194  12194        12194          12194   \n",
       "District       26976         26976   26976  26976        26976          26976   \n",
       "\n",
       "          math_score  School ID   size  budget  \n",
       "type                                            \n",
       "Charter        12194      12194  12194   12194  \n",
       "District       26976      26976  26976   26976  "
      ]
     },
     "execution_count": 107,
     "metadata": {},
     "output_type": "execute_result"
    }
   ],
   "source": [
    "group_school_type = school_data_complete.groupby([\"type\"]).count()\n",
    "group_school_type"
   ]
  },
  {
   "cell_type": "code",
   "execution_count": 105,
   "metadata": {},
   "outputs": [
    {
     "data": {
      "text/html": [
       "<div>\n",
       "<style scoped>\n",
       "    .dataframe tbody tr th:only-of-type {\n",
       "        vertical-align: middle;\n",
       "    }\n",
       "\n",
       "    .dataframe tbody tr th {\n",
       "        vertical-align: top;\n",
       "    }\n",
       "\n",
       "    .dataframe thead th {\n",
       "        text-align: right;\n",
       "    }\n",
       "</style>\n",
       "<table border=\"1\" class=\"dataframe\">\n",
       "  <thead>\n",
       "    <tr style=\"text-align: right;\">\n",
       "      <th></th>\n",
       "      <th>Total Students</th>\n",
       "      <th>Type of School</th>\n",
       "    </tr>\n",
       "  </thead>\n",
       "  <tbody>\n",
       "    <tr>\n",
       "      <th>0</th>\n",
       "      <td>school_name\n",
       "Bailey High School       4976\n",
       "Cabr...</td>\n",
       "      <td>&lt;pandas.core.groupby.generic.DataFrameGroupBy ...</td>\n",
       "    </tr>\n",
       "  </tbody>\n",
       "</table>\n",
       "</div>"
      ],
      "text/plain": [
       "                                      Total Students  \\\n",
       "0  school_name\n",
       "Bailey High School       4976\n",
       "Cabr...   \n",
       "\n",
       "                                      Type of School  \n",
       "0  <pandas.core.groupby.generic.DataFrameGroupBy ...  "
      ]
     },
     "execution_count": 105,
     "metadata": {},
     "output_type": "execute_result"
    }
   ],
   "source": [
    "group_summary = pd.DataFrame({\"Total Students\": [totals_by_school],\n",
    "                             \"Type of School\": [group_school_type]})\n",
    "group_summary"
   ]
  },
  {
   "cell_type": "code",
   "execution_count": null,
   "metadata": {},
   "outputs": [],
   "source": []
  },
  {
   "cell_type": "code",
   "execution_count": 94,
   "metadata": {},
   "outputs": [
    {
     "data": {
      "text/plain": [
       "type      reading_score\n",
       "Charter   87               459\n",
       "          70               426\n",
       "          79               419\n",
       "          85               416\n",
       "          86               413\n",
       "          98               411\n",
       "          69               409\n",
       "          91               407\n",
       "          81               406\n",
       "          83               403\n",
       "          74               402\n",
       "          84               402\n",
       "          92               401\n",
       "          93               401\n",
       "          77               400\n",
       "          72               399\n",
       "          71               397\n",
       "          99               391\n",
       "          94               390\n",
       "          75               388\n",
       "          73               387\n",
       "          95               381\n",
       "          82               380\n",
       "          89               376\n",
       "          76               375\n",
       "          90               369\n",
       "          96               368\n",
       "          80               361\n",
       "          78               354\n",
       "          88               352\n",
       "                          ... \n",
       "District  75               761\n",
       "          65               758\n",
       "          98               755\n",
       "          63               751\n",
       "          68               746\n",
       "          95               745\n",
       "          66               743\n",
       "          64               738\n",
       "          90               736\n",
       "          73               725\n",
       "          78               724\n",
       "          94               724\n",
       "          72               721\n",
       "          96               721\n",
       "          89               719\n",
       "          81               715\n",
       "          67               714\n",
       "          76               712\n",
       "          85               712\n",
       "          93               709\n",
       "          74               704\n",
       "          87               702\n",
       "          69               701\n",
       "          86               700\n",
       "          79               697\n",
       "          70               684\n",
       "          99               684\n",
       "          71               676\n",
       "          97               675\n",
       "          91               669\n",
       "Name: reading_score, Length: 68, dtype: int64"
      ]
     },
     "execution_count": 94,
     "metadata": {},
     "output_type": "execute_result"
    }
   ],
   "source": [
    "group_school_type[\"reading_score\"].value_counts()"
   ]
  },
  {
   "cell_type": "code",
   "execution_count": null,
   "metadata": {},
   "outputs": [],
   "source": []
  },
  {
   "cell_type": "code",
   "execution_count": null,
   "metadata": {},
   "outputs": [],
   "source": []
  },
  {
   "cell_type": "code",
   "execution_count": null,
   "metadata": {},
   "outputs": [],
   "source": []
  },
  {
   "cell_type": "code",
   "execution_count": null,
   "metadata": {},
   "outputs": [],
   "source": []
  },
  {
   "cell_type": "code",
   "execution_count": null,
   "metadata": {},
   "outputs": [],
   "source": []
  },
  {
   "cell_type": "code",
   "execution_count": null,
   "metadata": {},
   "outputs": [],
   "source": []
  },
  {
   "cell_type": "markdown",
   "metadata": {},
   "source": [
    "## Top Performing Schools (By Passing Rate)"
   ]
  },
  {
   "cell_type": "markdown",
   "metadata": {},
   "source": [
    "* Sort and display the top five schools in overall passing rate"
   ]
  },
  {
   "cell_type": "code",
   "execution_count": null,
   "metadata": {},
   "outputs": [],
   "source": []
  },
  {
   "cell_type": "markdown",
   "metadata": {},
   "source": [
    "## Bottom Performing Schools (By Passing Rate)"
   ]
  },
  {
   "cell_type": "markdown",
   "metadata": {},
   "source": [
    "* Sort and display the five worst-performing schools"
   ]
  },
  {
   "cell_type": "code",
   "execution_count": null,
   "metadata": {},
   "outputs": [],
   "source": []
  },
  {
   "cell_type": "markdown",
   "metadata": {
    "collapsed": true
   },
   "source": [
    "## Math Scores by Grade"
   ]
  },
  {
   "cell_type": "markdown",
   "metadata": {},
   "source": [
    "* Create a table that lists the average Reading Score for students of each grade level (9th, 10th, 11th, 12th) at each school.\n",
    "\n",
    "  * Create a pandas series for each grade. Hint: use a conditional statement.\n",
    "  \n",
    "  * Group each series by school\n",
    "  \n",
    "  * Combine the series into a dataframe\n",
    "  \n",
    "  * Optional: give the displayed data cleaner formatting"
   ]
  },
  {
   "cell_type": "code",
   "execution_count": null,
   "metadata": {},
   "outputs": [],
   "source": []
  },
  {
   "cell_type": "markdown",
   "metadata": {},
   "source": [
    "## Reading Score by Grade "
   ]
  },
  {
   "cell_type": "markdown",
   "metadata": {},
   "source": [
    "* Perform the same operations as above for reading scores"
   ]
  },
  {
   "cell_type": "code",
   "execution_count": null,
   "metadata": {},
   "outputs": [],
   "source": []
  },
  {
   "cell_type": "markdown",
   "metadata": {},
   "source": [
    "## Scores by School Spending"
   ]
  },
  {
   "cell_type": "markdown",
   "metadata": {},
   "source": [
    "* Create a table that breaks down school performances based on average Spending Ranges (Per Student). Use 4 reasonable bins to group school spending. Include in the table each of the following:\n",
    "  * Average Math Score\n",
    "  * Average Reading Score\n",
    "  * % Passing Math\n",
    "  * % Passing Reading\n",
    "  * Overall Passing Rate (Average of the above two)"
   ]
  },
  {
   "cell_type": "code",
   "execution_count": null,
   "metadata": {},
   "outputs": [],
   "source": [
    "# Sample bins. Feel free to create your own bins.\n",
    "spending_bins = [0, 585, 615, 645, 675]\n",
    "group_names = [\"<$585\", \"$585-615\", \"$615-645\", \"$645-675\"]"
   ]
  },
  {
   "cell_type": "code",
   "execution_count": null,
   "metadata": {},
   "outputs": [],
   "source": []
  },
  {
   "cell_type": "markdown",
   "metadata": {},
   "source": [
    "## Scores by School Size"
   ]
  },
  {
   "cell_type": "markdown",
   "metadata": {},
   "source": [
    "* Perform the same operations as above, based on school size."
   ]
  },
  {
   "cell_type": "code",
   "execution_count": null,
   "metadata": {},
   "outputs": [],
   "source": [
    "# Sample bins. Feel free to create your own bins.\n",
    "size_bins = [0, 1000, 2000, 5000]\n",
    "group_names = [\"Small (<1000)\", \"Medium (1000-2000)\", \"Large (2000-5000)\"]"
   ]
  },
  {
   "cell_type": "code",
   "execution_count": null,
   "metadata": {
    "scrolled": true
   },
   "outputs": [],
   "source": []
  },
  {
   "cell_type": "markdown",
   "metadata": {},
   "source": [
    "## Scores by School Type"
   ]
  },
  {
   "cell_type": "markdown",
   "metadata": {},
   "source": [
    "* Perform the same operations as above, based on school type."
   ]
  },
  {
   "cell_type": "code",
   "execution_count": null,
   "metadata": {},
   "outputs": [],
   "source": []
  },
  {
   "cell_type": "code",
   "execution_count": null,
   "metadata": {},
   "outputs": [],
   "source": []
  }
 ],
 "metadata": {
  "anaconda-cloud": {},
  "kernel_info": {
   "name": "python3"
  },
  "kernelspec": {
   "display_name": "Python 3",
   "language": "python",
   "name": "python3"
  },
  "language_info": {
   "codemirror_mode": {
    "name": "ipython",
    "version": 3
   },
   "file_extension": ".py",
   "mimetype": "text/x-python",
   "name": "python",
   "nbconvert_exporter": "python",
   "pygments_lexer": "ipython3",
   "version": "3.7.3"
  },
  "latex_envs": {
   "LaTeX_envs_menu_present": true,
   "autoclose": false,
   "autocomplete": true,
   "bibliofile": "biblio.bib",
   "cite_by": "apalike",
   "current_citInitial": 1,
   "eqLabelWithNumbers": true,
   "eqNumInitial": 1,
   "hotkeys": {
    "equation": "Ctrl-E",
    "itemize": "Ctrl-I"
   },
   "labels_anchors": false,
   "latex_user_defs": false,
   "report_style_numbering": false,
   "user_envs_cfg": false
  },
  "nteract": {
   "version": "0.8.4"
  }
 },
 "nbformat": 4,
 "nbformat_minor": 1
}
