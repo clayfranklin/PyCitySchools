{
 "cells": [
  {
   "cell_type": "markdown",
   "metadata": {},
   "source": [
    "### Note\n",
    "* Instructions have been included for each segment. You do not have to follow them exactly, but they are included to help you think through the steps."
   ]
  },
  {
   "cell_type": "code",
   "execution_count": 480,
   "metadata": {},
   "outputs": [
    {
     "data": {
      "text/html": [
       "<div>\n",
       "<style scoped>\n",
       "    .dataframe tbody tr th:only-of-type {\n",
       "        vertical-align: middle;\n",
       "    }\n",
       "\n",
       "    .dataframe tbody tr th {\n",
       "        vertical-align: top;\n",
       "    }\n",
       "\n",
       "    .dataframe thead th {\n",
       "        text-align: right;\n",
       "    }\n",
       "</style>\n",
       "<table border=\"1\" class=\"dataframe\">\n",
       "  <thead>\n",
       "    <tr style=\"text-align: right;\">\n",
       "      <th></th>\n",
       "      <th>Student ID</th>\n",
       "      <th>student_name</th>\n",
       "      <th>gender</th>\n",
       "      <th>grade</th>\n",
       "      <th>school_name</th>\n",
       "      <th>reading_score</th>\n",
       "      <th>math_score</th>\n",
       "      <th>School ID</th>\n",
       "      <th>type</th>\n",
       "      <th>size</th>\n",
       "      <th>budget</th>\n",
       "    </tr>\n",
       "  </thead>\n",
       "  <tbody>\n",
       "    <tr>\n",
       "      <th>0</th>\n",
       "      <td>0</td>\n",
       "      <td>Paul Bradley</td>\n",
       "      <td>M</td>\n",
       "      <td>9th</td>\n",
       "      <td>Huang High School</td>\n",
       "      <td>66</td>\n",
       "      <td>79</td>\n",
       "      <td>0</td>\n",
       "      <td>District</td>\n",
       "      <td>2917</td>\n",
       "      <td>1910635</td>\n",
       "    </tr>\n",
       "    <tr>\n",
       "      <th>1</th>\n",
       "      <td>1</td>\n",
       "      <td>Victor Smith</td>\n",
       "      <td>M</td>\n",
       "      <td>12th</td>\n",
       "      <td>Huang High School</td>\n",
       "      <td>94</td>\n",
       "      <td>61</td>\n",
       "      <td>0</td>\n",
       "      <td>District</td>\n",
       "      <td>2917</td>\n",
       "      <td>1910635</td>\n",
       "    </tr>\n",
       "    <tr>\n",
       "      <th>2</th>\n",
       "      <td>2</td>\n",
       "      <td>Kevin Rodriguez</td>\n",
       "      <td>M</td>\n",
       "      <td>12th</td>\n",
       "      <td>Huang High School</td>\n",
       "      <td>90</td>\n",
       "      <td>60</td>\n",
       "      <td>0</td>\n",
       "      <td>District</td>\n",
       "      <td>2917</td>\n",
       "      <td>1910635</td>\n",
       "    </tr>\n",
       "    <tr>\n",
       "      <th>3</th>\n",
       "      <td>3</td>\n",
       "      <td>Dr. Richard Scott</td>\n",
       "      <td>M</td>\n",
       "      <td>12th</td>\n",
       "      <td>Huang High School</td>\n",
       "      <td>67</td>\n",
       "      <td>58</td>\n",
       "      <td>0</td>\n",
       "      <td>District</td>\n",
       "      <td>2917</td>\n",
       "      <td>1910635</td>\n",
       "    </tr>\n",
       "    <tr>\n",
       "      <th>4</th>\n",
       "      <td>4</td>\n",
       "      <td>Bonnie Ray</td>\n",
       "      <td>F</td>\n",
       "      <td>9th</td>\n",
       "      <td>Huang High School</td>\n",
       "      <td>97</td>\n",
       "      <td>84</td>\n",
       "      <td>0</td>\n",
       "      <td>District</td>\n",
       "      <td>2917</td>\n",
       "      <td>1910635</td>\n",
       "    </tr>\n",
       "  </tbody>\n",
       "</table>\n",
       "</div>"
      ],
      "text/plain": [
       "   Student ID       student_name gender grade        school_name  \\\n",
       "0           0       Paul Bradley      M   9th  Huang High School   \n",
       "1           1       Victor Smith      M  12th  Huang High School   \n",
       "2           2    Kevin Rodriguez      M  12th  Huang High School   \n",
       "3           3  Dr. Richard Scott      M  12th  Huang High School   \n",
       "4           4         Bonnie Ray      F   9th  Huang High School   \n",
       "\n",
       "   reading_score  math_score  School ID      type  size   budget  \n",
       "0             66          79          0  District  2917  1910635  \n",
       "1             94          61          0  District  2917  1910635  \n",
       "2             90          60          0  District  2917  1910635  \n",
       "3             67          58          0  District  2917  1910635  \n",
       "4             97          84          0  District  2917  1910635  "
      ]
     },
     "execution_count": 480,
     "metadata": {},
     "output_type": "execute_result"
    }
   ],
   "source": [
    "# Dependencies and Setup\n",
    "import os\n",
    "import csv\n",
    "import pandas as pd\n",
    "import numpy as np\n",
    "\n",
    "\n",
    "# File to Load (Remember to Change These)\n",
    "school_data_to_load = \"schools_complete.csv\"\n",
    "student_data_to_load = \"students_complete.csv\"\n",
    "\n",
    "# Read School and Student Data File and store into Pandas Data Frames\n",
    "school_data = pd.read_csv(school_data_to_load)\n",
    "student_data = pd.read_csv(student_data_to_load)\n",
    "\n",
    "# Combine the data into a single dataset\n",
    "school_data_complete = pd.merge(student_data, school_data, how= \"outer\", on= ([\"school_name\", \"school_name\"]))\n",
    "\n",
    "school_data_complete.head()\n"
   ]
  },
  {
   "cell_type": "markdown",
   "metadata": {},
   "source": [
    "## District Summary\n",
    "\n",
    "* Calculate the total number of schools\n",
    "\n",
    "* Calculate the total number of students\n",
    "\n",
    "* Calculate the total budget\n",
    "\n",
    "* Calculate the average math score \n",
    "\n",
    "* Calculate the average reading score\n",
    "\n",
    "* Calculate the overall passing rate (overall average score), i.e. (avg. math score + avg. reading score)/2\n",
    "\n",
    "* Calculate the percentage of students with a passing math score (70 or greater)\n",
    "\n",
    "* Calculate the percentage of students with a passing reading score (70 or greater)\n",
    "\n",
    "* Create a dataframe to hold the above results\n",
    "\n",
    "* Optional: give the displayed data cleaner formatting"
   ]
  },
  {
   "cell_type": "code",
   "execution_count": 1030,
   "metadata": {},
   "outputs": [],
   "source": [
    "school_name = school_data_complete[\"school_name\"].unique()\n",
    "school_count = len(school_name)"
   ]
  },
  {
   "cell_type": "code",
   "execution_count": 1031,
   "metadata": {},
   "outputs": [],
   "source": [
    "school_budget = school_data_complete[\"budget\"].unique()\n",
    "budget_total = school_budget.sum()\n"
   ]
  },
  {
   "cell_type": "code",
   "execution_count": 1033,
   "metadata": {},
   "outputs": [],
   "source": [
    "student_IDs = school_data_complete[\"Student ID\"].unique()\n",
    "student_count = len(student_IDs)\n"
   ]
  },
  {
   "cell_type": "code",
   "execution_count": 1034,
   "metadata": {},
   "outputs": [],
   "source": [
    "math_scores = school_data_complete[\"math_score\"].sum()\n",
    "math_average = math_scores/len(school_data_complete[\"math_score\"])"
   ]
  },
  {
   "cell_type": "code",
   "execution_count": 1035,
   "metadata": {},
   "outputs": [],
   "source": [
    "read_scores = school_data_complete[\"reading_score\"].sum()\n",
    "read_average = read_scores/len(school_data_complete[\"reading_score\"])"
   ]
  },
  {
   "cell_type": "code",
   "execution_count": 1036,
   "metadata": {},
   "outputs": [],
   "source": [
    "overall_passing_rate = (math_average + read_average)/2\n"
   ]
  },
  {
   "cell_type": "markdown",
   "metadata": {},
   "source": [
    "## School Summary"
   ]
  },
  {
   "cell_type": "code",
   "execution_count": 1037,
   "metadata": {},
   "outputs": [],
   "source": [
    "passing_math = school_data_complete[\"math_score\"]>69.9\n",
    "pass_math_percent = np.count_nonzero(passing_math)/len(school_data_complete[\"math_score\"])\n"
   ]
  },
  {
   "cell_type": "code",
   "execution_count": 1038,
   "metadata": {},
   "outputs": [],
   "source": [
    "passing_reading = school_data_complete[\"reading_score\"]>69.9\n",
    "pass_reading_percent = np.count_nonzero(passing_reading)/len(school_data_complete[\"reading_score\"])"
   ]
  },
  {
   "cell_type": "code",
   "execution_count": 489,
   "metadata": {
    "scrolled": true
   },
   "outputs": [
    {
     "data": {
      "text/html": [
       "<div>\n",
       "<style scoped>\n",
       "    .dataframe tbody tr th:only-of-type {\n",
       "        vertical-align: middle;\n",
       "    }\n",
       "\n",
       "    .dataframe tbody tr th {\n",
       "        vertical-align: top;\n",
       "    }\n",
       "\n",
       "    .dataframe thead th {\n",
       "        text-align: right;\n",
       "    }\n",
       "</style>\n",
       "<table border=\"1\" class=\"dataframe\">\n",
       "  <thead>\n",
       "    <tr style=\"text-align: right;\">\n",
       "      <th></th>\n",
       "      <th>Total Schools</th>\n",
       "      <th>Total Students</th>\n",
       "      <th>Total Budget</th>\n",
       "      <th>Average Math Score</th>\n",
       "      <th>Average Reading Score</th>\n",
       "      <th>% Passing Math</th>\n",
       "      <th>% Passing Reading</th>\n",
       "      <th>% Overall Passing Rate</th>\n",
       "    </tr>\n",
       "  </thead>\n",
       "  <tbody>\n",
       "    <tr>\n",
       "      <th>0</th>\n",
       "      <td>15</td>\n",
       "      <td>39170</td>\n",
       "      <td>24649428</td>\n",
       "      <td>78.985371</td>\n",
       "      <td>81.87784</td>\n",
       "      <td>0.749809</td>\n",
       "      <td>0.858055</td>\n",
       "      <td>80.431606</td>\n",
       "    </tr>\n",
       "  </tbody>\n",
       "</table>\n",
       "</div>"
      ],
      "text/plain": [
       "   Total Schools  Total Students  Total Budget  Average Math Score  \\\n",
       "0             15           39170      24649428           78.985371   \n",
       "\n",
       "   Average Reading Score  % Passing Math  % Passing Reading  \\\n",
       "0               81.87784        0.749809           0.858055   \n",
       "\n",
       "   % Overall Passing Rate  \n",
       "0               80.431606  "
      ]
     },
     "execution_count": 489,
     "metadata": {},
     "output_type": "execute_result"
    }
   ],
   "source": [
    "Summary_table = pd.DataFrame({\"Total Schools\": [school_count],\n",
    "                              \"Total Students\": [student_count],\n",
    "                              \"Total Budget\": [budget_total],\n",
    "                              \"Average Math Score\": [math_average],\n",
    "                              \"Average Reading Score\": [read_average],\n",
    "                              \"% Passing Math\": [pass_math_percent],\n",
    "                              \"% Passing Reading\": [pass_reading_percent],\n",
    "                             \"% Overall Passing Rate\": [overall_passing_rate]})\n",
    "Summary_table"
   ]
  },
  {
   "cell_type": "code",
   "execution_count": null,
   "metadata": {},
   "outputs": [],
   "source": []
  },
  {
   "cell_type": "markdown",
   "metadata": {},
   "source": [
    "* Create an overview table that summarizes key metrics about each school, including:\n",
    "  * School Name\n",
    "  * School Type\n",
    "  * Total Students\n",
    "  * Total School Budget\n",
    "  * Per Student Budget\n",
    "  * Average Math Score\n",
    "  * Average Reading Score\n",
    "  * % Passing Math\n",
    "  * % Passing Reading\n",
    "  * Overall Passing Rate (Average of the above two)\n",
    "  \n",
    "* Create a dataframe to hold the above results"
   ]
  },
  {
   "cell_type": "code",
   "execution_count": 1039,
   "metadata": {},
   "outputs": [],
   "source": [
    "Schools = school_data_complete.set_index(\"school_name\")"
   ]
  },
  {
   "cell_type": "code",
   "execution_count": 1040,
   "metadata": {},
   "outputs": [],
   "source": [
    "Pass_Math_percent_school = (Bailey_math_percent, Cabrera_math_percent,\n",
    "                            Figueroa_math_percent, Ford_math_percent, Griffin_math_percent, Hernandez_math_percent\n",
    "                           , Holden_math_percent, Huang_math_percent, Johnson_math_percent, Pena_math_percent, Rodriguez_math_percent,Shelton_math_percent\n",
    "                           , Thomas_math_percent, Wilson_math_percent, Wright_math_percent)\n",
    "Pass_Math_percent_school\n",
    "Math_Percent_School = pd.Series(Pass_Math_percent_school)*100\n"
   ]
  },
  {
   "cell_type": "code",
   "execution_count": 1041,
   "metadata": {},
   "outputs": [],
   "source": [
    "Pass_Reading_percent_school = (Bailey_reading_percent, Cabrera_reading_percent,Figueroa_reading_percent,Ford_reading_percent\n",
    "                              ,Griffin_reading_percent,Hernandez_reading_percent,Holden_reading_percent,\n",
    "                              Huang_reading_percent,Johnson_reading_percent,Pena_reading_percent,Rodriguez_reading_percent,\n",
    "                              Shelton_reading_percent,Thomas_reading_percent,Wilson_reading_percent,Wright_reading_percent)\n",
    "Read_Percent_School = pd.Series(Pass_Reading_percent_school)*100\n"
   ]
  },
  {
   "cell_type": "code",
   "execution_count": 1042,
   "metadata": {},
   "outputs": [],
   "source": [
    "\n",
    "Huang = Schools.loc[\"Huang High School\"]\n",
    "Huang_pass_read = Huang[\"reading_score\"]>69.9\n",
    "Huang_reading_percent = np.count_nonzero(Huang_pass_read)/len(Huang[\"reading_score\"])\n"
   ]
  },
  {
   "cell_type": "code",
   "execution_count": 1043,
   "metadata": {},
   "outputs": [],
   "source": [
    "\n",
    "Huang_pass_math = Huang[\"math_score\"]>69.9\n",
    "Huang_math_percent = np.count_nonzero(Huang_pass_math)/len(Huang[\"math_score\"])\n"
   ]
  },
  {
   "cell_type": "code",
   "execution_count": 1044,
   "metadata": {},
   "outputs": [],
   "source": [
    "Cabrera = Schools.loc[\"Cabrera High School\"]\n",
    "Cabrera_pass_read = Cabrera[\"reading_score\"]>69.9\n",
    "Cabrera_reading_percent = np.count_nonzero(Cabrera_pass_read)/len(Cabrera[\"reading_score\"])\n"
   ]
  },
  {
   "cell_type": "code",
   "execution_count": 1045,
   "metadata": {},
   "outputs": [],
   "source": [
    "\n",
    "Cabrera_pass_math = Cabrera[\"math_score\"]>69.9\n",
    "Cabrera_math_percent = np.count_nonzero(Cabrera_pass_math)/len(Cabrera[\"math_score\"])\n"
   ]
  },
  {
   "cell_type": "code",
   "execution_count": 1046,
   "metadata": {},
   "outputs": [],
   "source": [
    "Bailey = Schools.loc[\"Bailey High School\"]\n",
    "Bailey_pass_read = Bailey[\"reading_score\"]>69.9\n",
    "Bailey_reading_percent = np.count_nonzero(Bailey_pass_read)/len(Bailey[\"reading_score\"])\n"
   ]
  },
  {
   "cell_type": "code",
   "execution_count": 1047,
   "metadata": {},
   "outputs": [],
   "source": [
    "Bailey_pass_math = Bailey[\"math_score\"]>69.9\n",
    "Bailey_math_percent = np.count_nonzero(Bailey_pass_math)/len(Bailey[\"math_score\"])\n"
   ]
  },
  {
   "cell_type": "code",
   "execution_count": 1048,
   "metadata": {},
   "outputs": [],
   "source": [
    "Figueroa = Schools.loc[\"Figueroa High School\"]\n",
    "Figueroa_pass_read = Figueroa[\"reading_score\"]>69.9\n",
    "Figueroa_reading_percent = np.count_nonzero(Figueroa_pass_read)/len(Figueroa[\"reading_score\"])\n"
   ]
  },
  {
   "cell_type": "code",
   "execution_count": 1049,
   "metadata": {},
   "outputs": [],
   "source": [
    "Figueroa_pass_math = Figueroa[\"math_score\"]>69.9\n",
    "Figueroa_math_percent = np.count_nonzero(Figueroa_pass_math)/len(Figueroa[\"math_score\"])\n"
   ]
  },
  {
   "cell_type": "code",
   "execution_count": 1050,
   "metadata": {},
   "outputs": [],
   "source": [
    "Ford = Schools.loc[\"Ford High School\"]\n",
    "Ford_pass_read = Ford[\"reading_score\"]>69.9\n",
    "Ford_reading_percent = np.count_nonzero(Ford_pass_read)/len(Ford[\"reading_score\"])\n"
   ]
  },
  {
   "cell_type": "code",
   "execution_count": 1051,
   "metadata": {},
   "outputs": [],
   "source": [
    "Ford_pass_math = Ford[\"math_score\"]>69.9\n",
    "Ford_math_percent = np.count_nonzero(Ford_pass_math)/len(Ford[\"math_score\"])\n"
   ]
  },
  {
   "cell_type": "code",
   "execution_count": 1052,
   "metadata": {},
   "outputs": [],
   "source": [
    "Griffin = Schools.loc[\"Griffin High School\"]\n",
    "Griffin_pass_read = Griffin[\"reading_score\"]>69.9\n",
    "Griffin_reading_percent = np.count_nonzero(Griffin_pass_read)/len(Griffin[\"reading_score\"])\n"
   ]
  },
  {
   "cell_type": "code",
   "execution_count": 1053,
   "metadata": {},
   "outputs": [],
   "source": [
    "\n",
    "Griffin_pass_math = Griffin[\"math_score\"]>69.9\n",
    "Griffin_math_percent = np.count_nonzero(Griffin_pass_math)/len(Griffin[\"math_score\"])\n"
   ]
  },
  {
   "cell_type": "code",
   "execution_count": 1054,
   "metadata": {},
   "outputs": [],
   "source": [
    "Hernandez = Schools.loc[\"Hernandez High School\"]\n",
    "Hernandez_pass_read = Hernandez[\"reading_score\"]>69.9\n",
    "Hernandez_reading_percent = np.count_nonzero(Hernandez_pass_read)/len(Hernandez[\"reading_score\"])\n"
   ]
  },
  {
   "cell_type": "code",
   "execution_count": 1055,
   "metadata": {},
   "outputs": [],
   "source": [
    "Hernandez_pass_math = Hernandez[\"math_score\"]>69.9\n",
    "Hernandez_math_percent = np.count_nonzero(Hernandez_pass_math)/len(Hernandez[\"math_score\"])\n"
   ]
  },
  {
   "cell_type": "code",
   "execution_count": 1056,
   "metadata": {},
   "outputs": [],
   "source": [
    "Holden = Schools.loc[\"Holden High School\"]\n",
    "Holden_pass_read = Holden[\"reading_score\"]>69.9\n",
    "Holden_reading_percent = np.count_nonzero(Holden_pass_read)/len(Holden[\"reading_score\"])\n"
   ]
  },
  {
   "cell_type": "code",
   "execution_count": 920,
   "metadata": {},
   "outputs": [
    {
     "data": {
      "text/plain": [
       "0.9250585480093677"
      ]
     },
     "execution_count": 920,
     "metadata": {},
     "output_type": "execute_result"
    }
   ],
   "source": [
    "Holden_pass_math = Holden[\"math_score\"]>69.9\n",
    "Holden_math_percent = np.count_nonzero(Holden_pass_math)/len(Holden[\"math_score\"])\n",
    "Holden_math_percent"
   ]
  },
  {
   "cell_type": "code",
   "execution_count": 1057,
   "metadata": {},
   "outputs": [],
   "source": [
    "Johnson = Schools.loc[\"Johnson High School\"]\n",
    "Johnson_pass_read = Johnson[\"reading_score\"]>69.9\n",
    "Johnson_reading_percent = np.count_nonzero(Johnson_pass_read)/len(Johnson[\"reading_score\"])\n"
   ]
  },
  {
   "cell_type": "code",
   "execution_count": 1058,
   "metadata": {},
   "outputs": [],
   "source": [
    "Johnson_pass_math = Johnson[\"math_score\"]>69.9\n",
    "Johnson_math_percent = np.count_nonzero(Johnson_pass_math)/len(Johnson[\"math_score\"])\n"
   ]
  },
  {
   "cell_type": "code",
   "execution_count": 1059,
   "metadata": {},
   "outputs": [],
   "source": [
    "Pena = Schools.loc[\"Pena High School\"]\n",
    "Pena_pass_read = Pena[\"reading_score\"]>69.9\n",
    "Pena_reading_percent = np.count_nonzero(Pena_pass_read)/len(Pena[\"reading_score\"])\n"
   ]
  },
  {
   "cell_type": "code",
   "execution_count": 1060,
   "metadata": {},
   "outputs": [],
   "source": [
    "Pena_pass_math = Pena[\"math_score\"]>69.9\n",
    "Pena_math_percent = np.count_nonzero(Pena_pass_math)/len(Pena[\"math_score\"])\n"
   ]
  },
  {
   "cell_type": "code",
   "execution_count": 1061,
   "metadata": {},
   "outputs": [],
   "source": [
    "Rodriguez = Schools.loc[\"Rodriguez High School\"]\n",
    "Rodriguez_pass_read = Rodriguez[\"reading_score\"]>69.9\n",
    "Rodriguez_reading_percent = np.count_nonzero(Rodriguez_pass_read)/len(Rodriguez[\"reading_score\"])\n"
   ]
  },
  {
   "cell_type": "code",
   "execution_count": 1062,
   "metadata": {},
   "outputs": [],
   "source": [
    "Rodriguez_pass_math = Rodriguez[\"math_score\"]>69.9\n",
    "Rodriguez_math_percent = np.count_nonzero(Rodriguez_pass_math)/len(Rodriguez[\"math_score\"])\n"
   ]
  },
  {
   "cell_type": "code",
   "execution_count": 1063,
   "metadata": {},
   "outputs": [],
   "source": [
    "Shelton = Schools.loc[\"Shelton High School\"]\n",
    "Shelton_pass_read = Shelton[\"reading_score\"]>69.9\n",
    "Shelton_reading_percent = np.count_nonzero(Shelton_pass_read)/len(Shelton[\"reading_score\"])\n"
   ]
  },
  {
   "cell_type": "code",
   "execution_count": 1064,
   "metadata": {},
   "outputs": [],
   "source": [
    "Shelton_pass_math = Shelton[\"math_score\"]>69.9\n",
    "Shelton_math_percent = np.count_nonzero(Shelton_pass_math)/len(Shelton[\"math_score\"])\n"
   ]
  },
  {
   "cell_type": "code",
   "execution_count": 1065,
   "metadata": {},
   "outputs": [],
   "source": [
    "Thomas = Schools.loc[\"Thomas High School\"]\n",
    "Thomas_pass_read = Thomas[\"reading_score\"]>69.9\n",
    "Thomas_reading_percent = np.count_nonzero(Thomas_pass_read)/len(Thomas[\"reading_score\"])\n"
   ]
  },
  {
   "cell_type": "code",
   "execution_count": 1066,
   "metadata": {},
   "outputs": [],
   "source": [
    "Thomas_pass_math = Thomas[\"math_score\"]>69.9\n",
    "Thomas_math_percent = np.count_nonzero(Thomas_pass_math)/len(Thomas[\"math_score\"])\n"
   ]
  },
  {
   "cell_type": "code",
   "execution_count": 1067,
   "metadata": {},
   "outputs": [],
   "source": [
    "Wilson = Schools.loc[\"Wilson High School\"]\n",
    "Wilson_pass_read = Wilson[\"reading_score\"]>69.9\n"
   ]
  },
  {
   "cell_type": "code",
   "execution_count": 1068,
   "metadata": {},
   "outputs": [],
   "source": [
    "Wilson_pass_math = Wilson[\"math_score\"]>69.9\n",
    "Wilson_math_percent = np.count_nonzero(Wilson_pass_math)/len(Wilson[\"math_score\"])\n"
   ]
  },
  {
   "cell_type": "code",
   "execution_count": 1069,
   "metadata": {},
   "outputs": [],
   "source": [
    "Wright = Schools.loc[\"Wright High School\"]\n",
    "Wright_pass_read = Wright[\"reading_score\"]>69.9\n"
   ]
  },
  {
   "cell_type": "code",
   "execution_count": 1070,
   "metadata": {},
   "outputs": [],
   "source": [
    "Wright_pass_math = Wright[\"math_score\"]>69.9\n",
    "Wright_math_percent = np.count_nonzero(Wright_pass_math)/len(Wright[\"math_score\"])\n"
   ]
  },
  {
   "cell_type": "code",
   "execution_count": 1071,
   "metadata": {},
   "outputs": [],
   "source": [
    "skool = school_data_complete.sort_values(\"school_name\")\n",
    "names = skool.groupby(\"school_name\").count()\n",
    "names2 = names.reset_index()\n",
    "names3 = names2.iloc[:,0]\n"
   ]
  },
  {
   "cell_type": "code",
   "execution_count": 1072,
   "metadata": {},
   "outputs": [],
   "source": [
    "budget_finder = school_data_complete.groupby('school_name')['budget'].mean()\n",
    "budgets = budget_finder.unique()\n",
    "budget_school = pd.Series(budgets)\n"
   ]
  },
  {
   "cell_type": "code",
   "execution_count": 1073,
   "metadata": {},
   "outputs": [],
   "source": [
    "number_students = school_data_complete.groupby('school_name')['size'].mean()\n",
    "student_total = number_students.unique()\n",
    "total_students_school = pd.Series(student_total)"
   ]
  },
  {
   "cell_type": "code",
   "execution_count": 1074,
   "metadata": {
    "scrolled": true
   },
   "outputs": [],
   "source": [
    "type_find = school_data_complete.groupby(['school_name','type']).mean()\n",
    "type_finder = type_find.iloc[:,1]\n",
    "type_finder_school = type_finder.reset_index()\n",
    "type_finder_schools = type_finder_school[\"type\"]"
   ]
  },
  {
   "cell_type": "code",
   "execution_count": 1079,
   "metadata": {},
   "outputs": [
    {
     "data": {
      "text/html": [
       "<div>\n",
       "<style scoped>\n",
       "    .dataframe tbody tr th:only-of-type {\n",
       "        vertical-align: middle;\n",
       "    }\n",
       "\n",
       "    .dataframe tbody tr th {\n",
       "        vertical-align: top;\n",
       "    }\n",
       "\n",
       "    .dataframe thead th {\n",
       "        text-align: right;\n",
       "    }\n",
       "</style>\n",
       "<table border=\"1\" class=\"dataframe\">\n",
       "  <thead>\n",
       "    <tr style=\"text-align: right;\">\n",
       "      <th></th>\n",
       "      <th>School Name</th>\n",
       "      <th>School Type</th>\n",
       "      <th>Total School Size</th>\n",
       "      <th>Total School Budget</th>\n",
       "      <th>Per Student Budget</th>\n",
       "      <th>Avg Math</th>\n",
       "      <th>Avg Read</th>\n",
       "      <th>%Passing Math</th>\n",
       "      <th>%Passing Reading</th>\n",
       "      <th>%Overall Passing Rate</th>\n",
       "    </tr>\n",
       "  </thead>\n",
       "  <tbody>\n",
       "    <tr>\n",
       "      <th>0</th>\n",
       "      <td>Bailey High School</td>\n",
       "      <td>District</td>\n",
       "      <td>4976</td>\n",
       "      <td>3124928</td>\n",
       "      <td>628.0</td>\n",
       "      <td>77.048432</td>\n",
       "      <td>81.033963</td>\n",
       "      <td>66.680064</td>\n",
       "      <td>81.933280</td>\n",
       "      <td>74.306672</td>\n",
       "    </tr>\n",
       "    <tr>\n",
       "      <th>1</th>\n",
       "      <td>Cabrera High School</td>\n",
       "      <td>Charter</td>\n",
       "      <td>1858</td>\n",
       "      <td>1081356</td>\n",
       "      <td>582.0</td>\n",
       "      <td>83.061895</td>\n",
       "      <td>83.975780</td>\n",
       "      <td>94.133477</td>\n",
       "      <td>97.039828</td>\n",
       "      <td>95.586652</td>\n",
       "    </tr>\n",
       "    <tr>\n",
       "      <th>2</th>\n",
       "      <td>Figueroa High School</td>\n",
       "      <td>District</td>\n",
       "      <td>2949</td>\n",
       "      <td>1884411</td>\n",
       "      <td>639.0</td>\n",
       "      <td>76.711767</td>\n",
       "      <td>81.158020</td>\n",
       "      <td>65.988471</td>\n",
       "      <td>80.739234</td>\n",
       "      <td>73.363852</td>\n",
       "    </tr>\n",
       "    <tr>\n",
       "      <th>3</th>\n",
       "      <td>Ford High School</td>\n",
       "      <td>District</td>\n",
       "      <td>2739</td>\n",
       "      <td>1763916</td>\n",
       "      <td>644.0</td>\n",
       "      <td>77.102592</td>\n",
       "      <td>80.746258</td>\n",
       "      <td>68.309602</td>\n",
       "      <td>79.299014</td>\n",
       "      <td>73.804308</td>\n",
       "    </tr>\n",
       "    <tr>\n",
       "      <th>4</th>\n",
       "      <td>Griffin High School</td>\n",
       "      <td>Charter</td>\n",
       "      <td>1468</td>\n",
       "      <td>917500</td>\n",
       "      <td>625.0</td>\n",
       "      <td>83.351499</td>\n",
       "      <td>83.816757</td>\n",
       "      <td>93.392371</td>\n",
       "      <td>97.138965</td>\n",
       "      <td>95.265668</td>\n",
       "    </tr>\n",
       "    <tr>\n",
       "      <th>5</th>\n",
       "      <td>Hernandez High School</td>\n",
       "      <td>District</td>\n",
       "      <td>4635</td>\n",
       "      <td>3022020</td>\n",
       "      <td>652.0</td>\n",
       "      <td>77.289752</td>\n",
       "      <td>80.934412</td>\n",
       "      <td>66.752967</td>\n",
       "      <td>80.862999</td>\n",
       "      <td>73.807983</td>\n",
       "    </tr>\n",
       "    <tr>\n",
       "      <th>6</th>\n",
       "      <td>Holden High School</td>\n",
       "      <td>Charter</td>\n",
       "      <td>427</td>\n",
       "      <td>248087</td>\n",
       "      <td>581.0</td>\n",
       "      <td>83.803279</td>\n",
       "      <td>83.814988</td>\n",
       "      <td>92.505855</td>\n",
       "      <td>96.252927</td>\n",
       "      <td>94.379391</td>\n",
       "    </tr>\n",
       "    <tr>\n",
       "      <th>7</th>\n",
       "      <td>Huang High School</td>\n",
       "      <td>District</td>\n",
       "      <td>2917</td>\n",
       "      <td>1910635</td>\n",
       "      <td>655.0</td>\n",
       "      <td>76.629414</td>\n",
       "      <td>81.182722</td>\n",
       "      <td>65.683922</td>\n",
       "      <td>81.316421</td>\n",
       "      <td>73.500171</td>\n",
       "    </tr>\n",
       "    <tr>\n",
       "      <th>8</th>\n",
       "      <td>Johnson High School</td>\n",
       "      <td>District</td>\n",
       "      <td>4761</td>\n",
       "      <td>3094650</td>\n",
       "      <td>650.0</td>\n",
       "      <td>77.072464</td>\n",
       "      <td>80.966394</td>\n",
       "      <td>66.057551</td>\n",
       "      <td>81.222432</td>\n",
       "      <td>73.639992</td>\n",
       "    </tr>\n",
       "    <tr>\n",
       "      <th>9</th>\n",
       "      <td>Pena High School</td>\n",
       "      <td>Charter</td>\n",
       "      <td>962</td>\n",
       "      <td>585858</td>\n",
       "      <td>609.0</td>\n",
       "      <td>83.839917</td>\n",
       "      <td>84.044699</td>\n",
       "      <td>94.594595</td>\n",
       "      <td>95.945946</td>\n",
       "      <td>95.270270</td>\n",
       "    </tr>\n",
       "    <tr>\n",
       "      <th>10</th>\n",
       "      <td>Rodriguez High School</td>\n",
       "      <td>District</td>\n",
       "      <td>3999</td>\n",
       "      <td>2547363</td>\n",
       "      <td>637.0</td>\n",
       "      <td>76.842711</td>\n",
       "      <td>80.744686</td>\n",
       "      <td>66.366592</td>\n",
       "      <td>80.220055</td>\n",
       "      <td>73.293323</td>\n",
       "    </tr>\n",
       "    <tr>\n",
       "      <th>11</th>\n",
       "      <td>Shelton High School</td>\n",
       "      <td>Charter</td>\n",
       "      <td>1761</td>\n",
       "      <td>1056600</td>\n",
       "      <td>600.0</td>\n",
       "      <td>83.359455</td>\n",
       "      <td>83.725724</td>\n",
       "      <td>93.867121</td>\n",
       "      <td>95.854628</td>\n",
       "      <td>94.860875</td>\n",
       "    </tr>\n",
       "    <tr>\n",
       "      <th>12</th>\n",
       "      <td>Thomas High School</td>\n",
       "      <td>Charter</td>\n",
       "      <td>1635</td>\n",
       "      <td>1043130</td>\n",
       "      <td>638.0</td>\n",
       "      <td>83.418349</td>\n",
       "      <td>83.848930</td>\n",
       "      <td>93.272171</td>\n",
       "      <td>97.308869</td>\n",
       "      <td>95.290520</td>\n",
       "    </tr>\n",
       "    <tr>\n",
       "      <th>13</th>\n",
       "      <td>Wilson High School</td>\n",
       "      <td>Charter</td>\n",
       "      <td>2283</td>\n",
       "      <td>1319574</td>\n",
       "      <td>578.0</td>\n",
       "      <td>83.274201</td>\n",
       "      <td>83.989488</td>\n",
       "      <td>93.867718</td>\n",
       "      <td>96.539641</td>\n",
       "      <td>95.203679</td>\n",
       "    </tr>\n",
       "    <tr>\n",
       "      <th>14</th>\n",
       "      <td>Wright High School</td>\n",
       "      <td>Charter</td>\n",
       "      <td>1800</td>\n",
       "      <td>1049400</td>\n",
       "      <td>583.0</td>\n",
       "      <td>83.682222</td>\n",
       "      <td>83.955000</td>\n",
       "      <td>93.333333</td>\n",
       "      <td>96.611111</td>\n",
       "      <td>94.972222</td>\n",
       "    </tr>\n",
       "  </tbody>\n",
       "</table>\n",
       "</div>"
      ],
      "text/plain": [
       "              School Name School Type  Total School Size  Total School Budget  \\\n",
       "0      Bailey High School    District               4976              3124928   \n",
       "1     Cabrera High School     Charter               1858              1081356   \n",
       "2    Figueroa High School    District               2949              1884411   \n",
       "3        Ford High School    District               2739              1763916   \n",
       "4     Griffin High School     Charter               1468               917500   \n",
       "5   Hernandez High School    District               4635              3022020   \n",
       "6      Holden High School     Charter                427               248087   \n",
       "7       Huang High School    District               2917              1910635   \n",
       "8     Johnson High School    District               4761              3094650   \n",
       "9        Pena High School     Charter                962               585858   \n",
       "10  Rodriguez High School    District               3999              2547363   \n",
       "11    Shelton High School     Charter               1761              1056600   \n",
       "12     Thomas High School     Charter               1635              1043130   \n",
       "13     Wilson High School     Charter               2283              1319574   \n",
       "14     Wright High School     Charter               1800              1049400   \n",
       "\n",
       "    Per Student Budget   Avg Math   Avg Read  %Passing Math  %Passing Reading  \\\n",
       "0                628.0  77.048432  81.033963      66.680064         81.933280   \n",
       "1                582.0  83.061895  83.975780      94.133477         97.039828   \n",
       "2                639.0  76.711767  81.158020      65.988471         80.739234   \n",
       "3                644.0  77.102592  80.746258      68.309602         79.299014   \n",
       "4                625.0  83.351499  83.816757      93.392371         97.138965   \n",
       "5                652.0  77.289752  80.934412      66.752967         80.862999   \n",
       "6                581.0  83.803279  83.814988      92.505855         96.252927   \n",
       "7                655.0  76.629414  81.182722      65.683922         81.316421   \n",
       "8                650.0  77.072464  80.966394      66.057551         81.222432   \n",
       "9                609.0  83.839917  84.044699      94.594595         95.945946   \n",
       "10               637.0  76.842711  80.744686      66.366592         80.220055   \n",
       "11               600.0  83.359455  83.725724      93.867121         95.854628   \n",
       "12               638.0  83.418349  83.848930      93.272171         97.308869   \n",
       "13               578.0  83.274201  83.989488      93.867718         96.539641   \n",
       "14               583.0  83.682222  83.955000      93.333333         96.611111   \n",
       "\n",
       "    %Overall Passing Rate  \n",
       "0               74.306672  \n",
       "1               95.586652  \n",
       "2               73.363852  \n",
       "3               73.804308  \n",
       "4               95.265668  \n",
       "5               73.807983  \n",
       "6               94.379391  \n",
       "7               73.500171  \n",
       "8               73.639992  \n",
       "9               95.270270  \n",
       "10              73.293323  \n",
       "11              94.860875  \n",
       "12              95.290520  \n",
       "13              95.203679  \n",
       "14              94.972222  "
      ]
     },
     "execution_count": 1079,
     "metadata": {},
     "output_type": "execute_result"
    }
   ],
   "source": [
    "Summary = pd.DataFrame({\"School Name\" : names3,\n",
    "                        \"School Type\": type_finder_schools,\n",
    "                        \"Total School Size\" : total_students_school ,\n",
    "                        \"Total School Budget\" : budget_school,\n",
    "                        \"Per Student Budget\": Per_student,\n",
    "                        \"Avg Math\": avg_math_complete,\n",
    "                        \"Avg Read\" : avg_read_complete,\n",
    "                        \"%Passing Math\" : Math_Percent_School,\n",
    "                        \"%Passing Reading\" : Read_Percent_School,\n",
    "                        \"%Overall Passing Rate\" : Overall_Pass_Rate\n",
    "                        })\n",
    "Summary.head(15)"
   ]
  },
  {
   "cell_type": "code",
   "execution_count": 1080,
   "metadata": {},
   "outputs": [],
   "source": [
    "Per_student = Summary.iloc[:,3]/Summary.iloc[:,2]\n"
   ]
  },
  {
   "cell_type": "code",
   "execution_count": 1081,
   "metadata": {},
   "outputs": [],
   "source": [
    "Overall_Pass_Rate = (Summary.iloc[:,6]+Summary.iloc[:,7])/2\n",
    "\n"
   ]
  },
  {
   "cell_type": "code",
   "execution_count": 1082,
   "metadata": {},
   "outputs": [],
   "source": [
    "school_metrics_math = school_data_complete.groupby('school_name')['math_score'].mean()\n",
    "avg_math_school = school_metrics_math.unique()\n",
    "avg_math_complete = pd.Series(avg_math_school)\n"
   ]
  },
  {
   "cell_type": "code",
   "execution_count": 898,
   "metadata": {},
   "outputs": [
    {
     "data": {
      "text/plain": [
       "0     81.033963\n",
       "1     83.975780\n",
       "2     81.158020\n",
       "3     80.746258\n",
       "4     83.816757\n",
       "5     80.934412\n",
       "6     83.814988\n",
       "7     81.182722\n",
       "8     80.966394\n",
       "9     84.044699\n",
       "10    80.744686\n",
       "11    83.725724\n",
       "12    83.848930\n",
       "13    83.989488\n",
       "14    83.955000\n",
       "dtype: float64"
      ]
     },
     "execution_count": 898,
     "metadata": {},
     "output_type": "execute_result"
    }
   ],
   "source": [
    "school_metrics_read = school_data_complete.groupby('school_name')['reading_score'].mean()\n",
    "avg_read_school = school_metrics_read.unique()\n",
    "avg_read_complete = pd.Series(avg_read_school)\n"
   ]
  },
  {
   "cell_type": "markdown",
   "metadata": {},
   "source": [
    "* Sort and display the top five schools in overall passing rate"
   ]
  },
  {
   "cell_type": "code",
   "execution_count": 1028,
   "metadata": {},
   "outputs": [
    {
     "data": {
      "text/html": [
       "<div>\n",
       "<style scoped>\n",
       "    .dataframe tbody tr th:only-of-type {\n",
       "        vertical-align: middle;\n",
       "    }\n",
       "\n",
       "    .dataframe tbody tr th {\n",
       "        vertical-align: top;\n",
       "    }\n",
       "\n",
       "    .dataframe thead th {\n",
       "        text-align: right;\n",
       "    }\n",
       "</style>\n",
       "<table border=\"1\" class=\"dataframe\">\n",
       "  <thead>\n",
       "    <tr style=\"text-align: right;\">\n",
       "      <th></th>\n",
       "      <th>School Name</th>\n",
       "      <th>School Type</th>\n",
       "      <th>Total School Size</th>\n",
       "      <th>Total School Budget</th>\n",
       "      <th>Per Student Budget</th>\n",
       "      <th>Avg Math</th>\n",
       "      <th>Avg Read</th>\n",
       "      <th>%Passing Math</th>\n",
       "      <th>%Passing Reading</th>\n",
       "      <th>%Overall Passing Rate</th>\n",
       "    </tr>\n",
       "  </thead>\n",
       "  <tbody>\n",
       "    <tr>\n",
       "      <th>1</th>\n",
       "      <td>Cabrera High School</td>\n",
       "      <td>Charter</td>\n",
       "      <td>1858</td>\n",
       "      <td>1081356</td>\n",
       "      <td>582.0</td>\n",
       "      <td>83.061895</td>\n",
       "      <td>83.975780</td>\n",
       "      <td>94.133477</td>\n",
       "      <td>97.039828</td>\n",
       "      <td>95.586652</td>\n",
       "    </tr>\n",
       "    <tr>\n",
       "      <th>12</th>\n",
       "      <td>Thomas High School</td>\n",
       "      <td>Charter</td>\n",
       "      <td>1635</td>\n",
       "      <td>1043130</td>\n",
       "      <td>638.0</td>\n",
       "      <td>83.418349</td>\n",
       "      <td>83.848930</td>\n",
       "      <td>93.272171</td>\n",
       "      <td>97.308869</td>\n",
       "      <td>95.290520</td>\n",
       "    </tr>\n",
       "    <tr>\n",
       "      <th>9</th>\n",
       "      <td>Pena High School</td>\n",
       "      <td>Charter</td>\n",
       "      <td>962</td>\n",
       "      <td>585858</td>\n",
       "      <td>609.0</td>\n",
       "      <td>83.839917</td>\n",
       "      <td>84.044699</td>\n",
       "      <td>94.594595</td>\n",
       "      <td>95.945946</td>\n",
       "      <td>95.270270</td>\n",
       "    </tr>\n",
       "    <tr>\n",
       "      <th>4</th>\n",
       "      <td>Griffin High School</td>\n",
       "      <td>Charter</td>\n",
       "      <td>1468</td>\n",
       "      <td>917500</td>\n",
       "      <td>625.0</td>\n",
       "      <td>83.351499</td>\n",
       "      <td>83.816757</td>\n",
       "      <td>93.392371</td>\n",
       "      <td>97.138965</td>\n",
       "      <td>95.265668</td>\n",
       "    </tr>\n",
       "    <tr>\n",
       "      <th>13</th>\n",
       "      <td>Wilson High School</td>\n",
       "      <td>Charter</td>\n",
       "      <td>2283</td>\n",
       "      <td>1319574</td>\n",
       "      <td>578.0</td>\n",
       "      <td>83.274201</td>\n",
       "      <td>83.989488</td>\n",
       "      <td>93.867718</td>\n",
       "      <td>96.539641</td>\n",
       "      <td>95.203679</td>\n",
       "    </tr>\n",
       "  </tbody>\n",
       "</table>\n",
       "</div>"
      ],
      "text/plain": [
       "            School Name School Type  Total School Size  Total School Budget  \\\n",
       "1   Cabrera High School     Charter               1858              1081356   \n",
       "12   Thomas High School     Charter               1635              1043130   \n",
       "9      Pena High School     Charter                962               585858   \n",
       "4   Griffin High School     Charter               1468               917500   \n",
       "13   Wilson High School     Charter               2283              1319574   \n",
       "\n",
       "    Per Student Budget   Avg Math   Avg Read  %Passing Math  %Passing Reading  \\\n",
       "1                582.0  83.061895  83.975780      94.133477         97.039828   \n",
       "12               638.0  83.418349  83.848930      93.272171         97.308869   \n",
       "9                609.0  83.839917  84.044699      94.594595         95.945946   \n",
       "4                625.0  83.351499  83.816757      93.392371         97.138965   \n",
       "13               578.0  83.274201  83.989488      93.867718         96.539641   \n",
       "\n",
       "    %Overall Passing Rate  \n",
       "1               95.586652  \n",
       "12              95.290520  \n",
       "9               95.270270  \n",
       "4               95.265668  \n",
       "13              95.203679  "
      ]
     },
     "execution_count": 1028,
     "metadata": {},
     "output_type": "execute_result"
    }
   ],
   "source": [
    "Top_df = Summary.sort_values(\"%Overall Passing Rate\", ascending=False)\n",
    "Top_df.head()"
   ]
  },
  {
   "cell_type": "markdown",
   "metadata": {},
   "source": [
    "## Bottom Performing Schools (By Passing Rate)"
   ]
  },
  {
   "cell_type": "markdown",
   "metadata": {},
   "source": [
    "* Sort and display the five worst-performing schools"
   ]
  },
  {
   "cell_type": "code",
   "execution_count": 1027,
   "metadata": {},
   "outputs": [
    {
     "data": {
      "text/html": [
       "<div>\n",
       "<style scoped>\n",
       "    .dataframe tbody tr th:only-of-type {\n",
       "        vertical-align: middle;\n",
       "    }\n",
       "\n",
       "    .dataframe tbody tr th {\n",
       "        vertical-align: top;\n",
       "    }\n",
       "\n",
       "    .dataframe thead th {\n",
       "        text-align: right;\n",
       "    }\n",
       "</style>\n",
       "<table border=\"1\" class=\"dataframe\">\n",
       "  <thead>\n",
       "    <tr style=\"text-align: right;\">\n",
       "      <th></th>\n",
       "      <th>School Name</th>\n",
       "      <th>School Type</th>\n",
       "      <th>Total School Size</th>\n",
       "      <th>Total School Budget</th>\n",
       "      <th>Per Student Budget</th>\n",
       "      <th>Avg Math</th>\n",
       "      <th>Avg Read</th>\n",
       "      <th>%Passing Math</th>\n",
       "      <th>%Passing Reading</th>\n",
       "      <th>%Overall Passing Rate</th>\n",
       "    </tr>\n",
       "  </thead>\n",
       "  <tbody>\n",
       "    <tr>\n",
       "      <th>10</th>\n",
       "      <td>Rodriguez High School</td>\n",
       "      <td>District</td>\n",
       "      <td>3999</td>\n",
       "      <td>2547363</td>\n",
       "      <td>637.0</td>\n",
       "      <td>76.842711</td>\n",
       "      <td>80.744686</td>\n",
       "      <td>66.366592</td>\n",
       "      <td>80.220055</td>\n",
       "      <td>73.293323</td>\n",
       "    </tr>\n",
       "    <tr>\n",
       "      <th>2</th>\n",
       "      <td>Figueroa High School</td>\n",
       "      <td>District</td>\n",
       "      <td>2949</td>\n",
       "      <td>1884411</td>\n",
       "      <td>639.0</td>\n",
       "      <td>76.711767</td>\n",
       "      <td>81.158020</td>\n",
       "      <td>65.988471</td>\n",
       "      <td>80.739234</td>\n",
       "      <td>73.363852</td>\n",
       "    </tr>\n",
       "    <tr>\n",
       "      <th>7</th>\n",
       "      <td>Huang High School</td>\n",
       "      <td>District</td>\n",
       "      <td>2917</td>\n",
       "      <td>1910635</td>\n",
       "      <td>655.0</td>\n",
       "      <td>76.629414</td>\n",
       "      <td>81.182722</td>\n",
       "      <td>65.683922</td>\n",
       "      <td>81.316421</td>\n",
       "      <td>73.500171</td>\n",
       "    </tr>\n",
       "    <tr>\n",
       "      <th>8</th>\n",
       "      <td>Johnson High School</td>\n",
       "      <td>District</td>\n",
       "      <td>4761</td>\n",
       "      <td>3094650</td>\n",
       "      <td>650.0</td>\n",
       "      <td>77.072464</td>\n",
       "      <td>80.966394</td>\n",
       "      <td>66.057551</td>\n",
       "      <td>81.222432</td>\n",
       "      <td>73.639992</td>\n",
       "    </tr>\n",
       "    <tr>\n",
       "      <th>3</th>\n",
       "      <td>Ford High School</td>\n",
       "      <td>District</td>\n",
       "      <td>2739</td>\n",
       "      <td>1763916</td>\n",
       "      <td>644.0</td>\n",
       "      <td>77.102592</td>\n",
       "      <td>80.746258</td>\n",
       "      <td>68.309602</td>\n",
       "      <td>79.299014</td>\n",
       "      <td>73.804308</td>\n",
       "    </tr>\n",
       "  </tbody>\n",
       "</table>\n",
       "</div>"
      ],
      "text/plain": [
       "              School Name School Type  Total School Size  Total School Budget  \\\n",
       "10  Rodriguez High School    District               3999              2547363   \n",
       "2    Figueroa High School    District               2949              1884411   \n",
       "7       Huang High School    District               2917              1910635   \n",
       "8     Johnson High School    District               4761              3094650   \n",
       "3        Ford High School    District               2739              1763916   \n",
       "\n",
       "    Per Student Budget   Avg Math   Avg Read  %Passing Math  %Passing Reading  \\\n",
       "10               637.0  76.842711  80.744686      66.366592         80.220055   \n",
       "2                639.0  76.711767  81.158020      65.988471         80.739234   \n",
       "7                655.0  76.629414  81.182722      65.683922         81.316421   \n",
       "8                650.0  77.072464  80.966394      66.057551         81.222432   \n",
       "3                644.0  77.102592  80.746258      68.309602         79.299014   \n",
       "\n",
       "    %Overall Passing Rate  \n",
       "10              73.293323  \n",
       "2               73.363852  \n",
       "7               73.500171  \n",
       "8               73.639992  \n",
       "3               73.804308  "
      ]
     },
     "execution_count": 1027,
     "metadata": {},
     "output_type": "execute_result"
    }
   ],
   "source": [
    "Bottom_df = Summary.sort_values(\"%Overall Passing Rate\", ascending=True)\n",
    "Bottom_df.head()"
   ]
  },
  {
   "cell_type": "markdown",
   "metadata": {
    "collapsed": true
   },
   "source": [
    "## Math Scores by Grade"
   ]
  },
  {
   "cell_type": "markdown",
   "metadata": {},
   "source": [
    "* Create a table that lists the average Reading Score for students of each grade level (9th, 10th, 11th, 12th) at each school.\n",
    "\n",
    "  * Create a pandas series for each grade. Hint: use a conditional statement.\n",
    "  \n",
    "  * Group each series by school\n",
    "  \n",
    "  * Combine the series into a dataframe\n",
    "  \n",
    "  * Optional: give the displayed data cleaner formatting"
   ]
  },
  {
   "cell_type": "code",
   "execution_count": null,
   "metadata": {},
   "outputs": [],
   "source": []
  },
  {
   "cell_type": "markdown",
   "metadata": {},
   "source": [
    "## Reading Score by Grade "
   ]
  },
  {
   "cell_type": "markdown",
   "metadata": {},
   "source": [
    "* Perform the same operations as above for reading scores"
   ]
  },
  {
   "cell_type": "code",
   "execution_count": null,
   "metadata": {},
   "outputs": [],
   "source": []
  },
  {
   "cell_type": "markdown",
   "metadata": {},
   "source": [
    "## Scores by School Spending"
   ]
  },
  {
   "cell_type": "markdown",
   "metadata": {},
   "source": [
    "* Create a table that breaks down school performances based on average Spending Ranges (Per Student). Use 4 reasonable bins to group school spending. Include in the table each of the following:\n",
    "  * Average Math Score\n",
    "  * Average Reading Score\n",
    "  * % Passing Math\n",
    "  * % Passing Reading\n",
    "  * Overall Passing Rate (Average of the above two)"
   ]
  },
  {
   "cell_type": "code",
   "execution_count": null,
   "metadata": {},
   "outputs": [],
   "source": [
    "# Sample bins. Feel free to create your own bins.\n",
    "spending_bins = [0, 585, 615, 645, 675]\n",
    "group_names = [\"<$585\", \"$585-615\", \"$615-645\", \"$645-675\"]"
   ]
  },
  {
   "cell_type": "code",
   "execution_count": null,
   "metadata": {},
   "outputs": [],
   "source": []
  },
  {
   "cell_type": "markdown",
   "metadata": {},
   "source": [
    "## Scores by School Size"
   ]
  },
  {
   "cell_type": "markdown",
   "metadata": {},
   "source": [
    "* Perform the same operations as above, based on school size."
   ]
  },
  {
   "cell_type": "code",
   "execution_count": null,
   "metadata": {},
   "outputs": [],
   "source": [
    "# Sample bins. Feel free to create your own bins.\n",
    "size_bins = [0, 1000, 2000, 5000]\n",
    "group_names = [\"Small (<1000)\", \"Medium (1000-2000)\", \"Large (2000-5000)\"]"
   ]
  },
  {
   "cell_type": "code",
   "execution_count": null,
   "metadata": {
    "scrolled": true
   },
   "outputs": [],
   "source": []
  },
  {
   "cell_type": "markdown",
   "metadata": {},
   "source": [
    "## Scores by School Type"
   ]
  },
  {
   "cell_type": "markdown",
   "metadata": {},
   "source": [
    "* Perform the same operations as above, based on school type."
   ]
  },
  {
   "cell_type": "code",
   "execution_count": null,
   "metadata": {},
   "outputs": [],
   "source": []
  },
  {
   "cell_type": "code",
   "execution_count": null,
   "metadata": {},
   "outputs": [],
   "source": []
  }
 ],
 "metadata": {
  "anaconda-cloud": {},
  "kernel_info": {
   "name": "python3"
  },
  "kernelspec": {
   "display_name": "Python 3",
   "language": "python",
   "name": "python3"
  },
  "language_info": {
   "codemirror_mode": {
    "name": "ipython",
    "version": 3
   },
   "file_extension": ".py",
   "mimetype": "text/x-python",
   "name": "python",
   "nbconvert_exporter": "python",
   "pygments_lexer": "ipython3",
   "version": "3.7.3"
  },
  "latex_envs": {
   "LaTeX_envs_menu_present": true,
   "autoclose": false,
   "autocomplete": true,
   "bibliofile": "biblio.bib",
   "cite_by": "apalike",
   "current_citInitial": 1,
   "eqLabelWithNumbers": true,
   "eqNumInitial": 1,
   "hotkeys": {
    "equation": "Ctrl-E",
    "itemize": "Ctrl-I"
   },
   "labels_anchors": false,
   "latex_user_defs": false,
   "report_style_numbering": false,
   "user_envs_cfg": false
  },
  "nteract": {
   "version": "0.8.4"
  }
 },
 "nbformat": 4,
 "nbformat_minor": 1
}
